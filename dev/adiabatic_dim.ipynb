{
 "cells": [
  {
   "cell_type": "code",
   "execution_count": 1,
   "metadata": {},
   "outputs": [
    {
     "name": "stdout",
     "output_type": "stream",
     "text": [
      "/Users/treycole/Repos/WanPy/dev\n"
     ]
    }
   ],
   "source": [
    "import os\n",
    "import sys\n",
    "print(os.getcwd())\n",
    "sys.path.append(\"../WanPy\")\n",
    "\n",
    "import numpy as np\n",
    "from pythtb import *\n",
    "from wpythtb import Bloch, K_mesh, Wannier\n",
    "from models import *\n",
    "import matplotlib.pyplot as plt"
   ]
  },
  {
   "cell_type": "code",
   "execution_count": 2,
   "metadata": {},
   "outputs": [],
   "source": [
    "t = 1.0  # spin-independent first-neighbor hop\n",
    "soc = 0.125  # spin-dependent second-neighbor hop\n",
    "m = 1  # magnetic field magnitude\n",
    "beta = np.pi\n",
    "h = m*np.sin(beta)*np.array([1, 1, 1])\n",
    "dt = m*np.cos(beta)    # modification to t for (111) bond\n",
    "\n",
    "fkm_model = fu_kane_mele(t, dt, soc, h)\n",
    "\n",
    "nks = 20, 20, 20\n",
    "bloch_states = Bloch(fkm_model, *nks)\n",
    "bloch_states.solve_model()"
   ]
  },
  {
   "cell_type": "code",
   "execution_count": null,
   "metadata": {},
   "outputs": [
    {
     "data": {
      "text/plain": [
       "3"
      ]
     },
     "execution_count": 7,
     "metadata": {},
     "output_type": "execute_result"
    }
   ],
   "source": [
    "bloch_states.\\"
   ]
  }
 ],
 "metadata": {
  "kernelspec": {
   "display_name": "wanpy",
   "language": "python",
   "name": "python3"
  },
  "language_info": {
   "codemirror_mode": {
    "name": "ipython",
    "version": 3
   },
   "file_extension": ".py",
   "mimetype": "text/x-python",
   "name": "python",
   "nbconvert_exporter": "python",
   "pygments_lexer": "ipython3",
   "version": "3.10.16"
  }
 },
 "nbformat": 4,
 "nbformat_minor": 2
}
