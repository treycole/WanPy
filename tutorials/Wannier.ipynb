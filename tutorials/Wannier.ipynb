{
 "cells": [
  {
   "cell_type": "code",
   "execution_count": null,
   "metadata": {},
   "outputs": [],
   "source": [
    "import os\n",
    "import sys\n",
    "print(os.getcwd())\n",
    "sys.path.append(\"../wanpy\")\n",
    "\n",
    "from wanpy import *\n",
    "from pythtb import *\n",
    "from wpythtb import *\n",
    "import models\n",
    "import numpy as np\n",
    "import matplotlib.pyplot as plt"
   ]
  },
  {
   "cell_type": "markdown",
   "metadata": {},
   "source": [
    "# Haldane model"
   ]
  },
  {
   "cell_type": "markdown",
   "metadata": {},
   "source": [
    "Setting up `pythTB` tight-binding model for the Haldane model parameterized by the onsite potential $\\Delta$, nearest neighbor hopping $t_1$ and complex next nearest neighbor hopping $t_2$"
   ]
  },
  {
   "cell_type": "code",
   "execution_count": null,
   "metadata": {},
   "outputs": [],
   "source": [
    "# tight-binding parameters\n",
    "delta = t1 = 1\n",
    "t2 = -0.1\n",
    "n_super_cell = 2  # number of primitive cells along both lattice vectors\n",
    "\n",
    "model = models.Haldane(delta, t1, t2).make_supercell([[n_super_cell, 0], [0, n_super_cell]])"
   ]
  },
  {
   "cell_type": "markdown",
   "metadata": {},
   "source": [
    "# `Wannier` class\n",
    "\n",
    "The `Wannier`class contains the functions relevant for subspace selection, maximal-localization, and Wannier interpolation. We initialize it by passing the reference `Model` and number of k-points along each dimension in the mesh."
   ]
  },
  {
   "cell_type": "code",
   "execution_count": null,
   "metadata": {},
   "outputs": [],
   "source": [
    "nks = 20, 20  # number of k points along each dimension\n",
    "WF = Wannier(model, nks)"
   ]
  },
  {
   "cell_type": "markdown",
   "metadata": {},
   "source": [
    "Each `Wannier` instance has the following attributes \n",
    "- `model`: reference to the `Model`\n",
    "- `K_mesh`: a `K_mesh` instance on which the Bloch eigenstates are defined\n",
    "- `supercell`: a list of tuples defining the supercell conjugate to the discrete k-mesh\n",
    "- `energy_eigstates`: a `Bloch` instance containing the energy eigenstates\n",
    "-  `tilde_states`: a `Bloch` instance containing the Bloch-like states corresponding to the Wannier functions."
   ]
  },
  {
   "cell_type": "code",
   "execution_count": null,
   "metadata": {},
   "outputs": [],
   "source": [
    "from pprint import pprint\n",
    "pprint(list(vars(WF).keys()))"
   ]
  },
  {
   "cell_type": "markdown",
   "metadata": {},
   "source": [
    "## Setting up trial wavefunctions \n",
    "\n",
    "Now we must choose trial wavefunctions to construct our Bloch-like states. A natural choice is delta functions on the low-energy sublattice in the home cell. \n",
    "\n",
    "The trial wavefunctions are defined by lists of tuples specifying the trial wavefunction's probability amplitude over the orbitals `[(n, c_n), ...]`. \n",
    "\n",
    "$$ |t_i \\ \\rangle = \\sum_n c_n |\\phi_n\\rangle $$\n",
    "\n",
    "\n",
    "_Note_: Normalization is handled internally so the square of the amplitudes do not need to sum to $1$. Any orbitals not specified are taken to have zero amplitude."
   ]
  },
  {
   "cell_type": "code",
   "execution_count": null,
   "metadata": {},
   "outputs": [],
   "source": [
    "# model specific constants\n",
    "n_orb = model.get_num_orbitals()  # number of orbitals\n",
    "n_occ = int(n_orb/2)  # number of occupied bands (assume half-filling)\n",
    "low_E_sites = np.arange(0, n_orb, 2)  # low-energy sites defined to be indexed by even numbers\n",
    "\n",
    "# defining the trial wavefunctions\n",
    "tf_list = [[(orb, 1)] for orb in low_E_sites]\n",
    "n_tfs = len(tf_list)\n",
    "\n",
    "print(f\"Trial wavefunctions: {tf_list}\")\n",
    "print(f\"# of Wannier functions: {n_tfs}\")\n",
    "print(f\"# of occupied bands: {n_occ}\")\n",
    "print(f\"Wannier fraction: {n_tfs/n_occ}\")"
   ]
  },
  {
   "cell_type": "markdown",
   "metadata": {},
   "source": [
    "## Projection step"
   ]
  },
  {
   "cell_type": "markdown",
   "metadata": {},
   "source": [
    "To obtain the initial Bloch-like states from projection we call the method `single_shot` providing the trial wavefunctions we specified and the band-indices to construct Wannier functions from. This performs the operations,\n",
    "1. Projection $$ (A_{\\mathbf{k}})_{mn} = \\langle \\psi_{m\\mathbf{k}} | t_n \\rangle$$\n",
    "2. SVD $$ A_{\\mathbf{k}} = V_{\\mathbf{k}} \\Sigma_{\\mathbf{k}} W_{\\mathbf{k}}^{\\dagger} $$\n",
    "3. Unitary rotation$$ |\\tilde{\\psi}_{n\\mathbf{k}} \\rangle = \\sum_{m\\in \\text{band idxs}} |\\psi_{m\\mathbf{k}} \\rangle (V_{\\mathbf{k}}W_{\\mathbf{k}}^{\\dagger})_{mn} $$\n",
    "4. Fourier transformation $$  |\\mathbf{R} n\\rangle = \\sum_{\\mathbf{k}} e^{-i\\mathbf{k}\\cdot \\mathbf{R}} |\\tilde{\\psi}_{n\\mathbf{k}} \\rangle  $$"
   ]
  },
  {
   "cell_type": "code",
   "execution_count": null,
   "metadata": {},
   "outputs": [],
   "source": [
    "WF.single_shot(tf_list, band_idxs=list(range(n_occ)))"
   ]
  },
  {
   "cell_type": "markdown",
   "metadata": {},
   "source": [
    "This will already gives us quite localized Wannier functions. We can see their spreads by calling the function `report`."
   ]
  },
  {
   "cell_type": "code",
   "execution_count": null,
   "metadata": {},
   "outputs": [],
   "source": [
    "WF.report()"
   ]
  },
  {
   "cell_type": "markdown",
   "metadata": {},
   "source": [
    "We can also directly access the attributes"
   ]
  },
  {
   "cell_type": "code",
   "execution_count": null,
   "metadata": {},
   "outputs": [],
   "source": [
    "print(WF.spread)\n",
    "print(WF.omega_i)\n",
    "print(WF.omega_til)\n",
    "print(WF.centers)\n",
    "\n",
    "omega_til_ss = WF.omega_til"
   ]
  },
  {
   "cell_type": "markdown",
   "metadata": {},
   "source": [
    "We can visualize the Wannier density using `plot_density`. We specify which Wannier function to look at with `Wan_idx`."
   ]
  },
  {
   "cell_type": "code",
   "execution_count": null,
   "metadata": {},
   "outputs": [],
   "source": [
    "WF.plot_density(Wan_idx=0)\n",
    "WF.plot_decay(Wan_idx=0, fit_rng=[5,20])"
   ]
  },
  {
   "cell_type": "markdown",
   "metadata": {},
   "source": [
    "## Maximal Localization\n",
    "\n",
    "_Maximal localization_ finds the optimal unitary rotation that minimizes the gauge dependent spread $\\widetilde{\\Omega}$ using the Marzari-Vanderbilt algorithm from PhysRevB.56.12847. \n",
    "\n",
    "To do so we call the `max_loc` function, specifying the following\n",
    "- `eps` is the step size for gradient descent\n",
    "- `iter_num` is the number of iterations before the calculation stops\n",
    "- Optionally we can set `tol` specifying the minimum change in the spread at subsequent iterations before convergence\n",
    "- For additional control we specify `grad_min` which sets the minimum gradient of the spread before convergence."
   ]
  },
  {
   "cell_type": "code",
   "execution_count": null,
   "metadata": {},
   "outputs": [],
   "source": [
    "iter_num = 1000\n",
    "\n",
    "WF.max_loc(eps=1e-3, iter_num=iter_num, tol=1e-10, grad_min=1e-10, verbose=True)"
   ]
  },
  {
   "cell_type": "markdown",
   "metadata": {},
   "source": [
    "Now let's see how the localization improved."
   ]
  },
  {
   "cell_type": "code",
   "execution_count": null,
   "metadata": {},
   "outputs": [],
   "source": [
    "WF.report()\n",
    "\n",
    "omega_til_ml = WF.omega_til\n",
    "print()\n",
    "print(f\"Spread lowered by: {omega_til_ss-omega_til_ml}\")"
   ]
  },
  {
   "cell_type": "markdown",
   "metadata": {},
   "source": [
    "# Reduced Wanner functions and subspace selection"
   ]
  },
  {
   "cell_type": "code",
   "execution_count": null,
   "metadata": {},
   "outputs": [],
   "source": [
    "# tight-binding parameters\n",
    "delta = 1\n",
    "t1 = 1\n",
    "t2 = -0.4\n",
    "\n",
    "n_super_cell = 2\n",
    "model = models.Haldane(delta, t1, t2).make_supercell([[n_super_cell, 0], [0, n_super_cell]])\n",
    "\n",
    "# model specific constants\n",
    "n_orb = model.get_num_orbitals()  # number of orbitals\n",
    "n_occ = int(n_orb/2)  # number of occupied bands (assume half-filling)\n",
    "lat_vecs = model.get_lat()  # lattice vectors\n",
    "orb_vecs = model.get_orb()  # orbital vectors\n",
    "\n",
    "# Chern number\n",
    "u_wfs_full = wf_array(model, [20, 20]) # container for wavefunctions\n",
    "u_wfs_full.solve_on_grid([0, 0])\n",
    "chern = u_wfs_full.berry_flux([i for i in range(n_occ)])/(2*np.pi)\n",
    "print(f\"Chern number: {chern:0.3f}\")"
   ]
  },
  {
   "cell_type": "markdown",
   "metadata": {},
   "source": [
    "Since the occupied manifold is obstructed, we must use restricted projection in order to Wannierize a subspace. For example, let's Wannierize a 3-dimensional subspace by choosing trial wavefunctions centered on 3 of the low energy orbitals."
   ]
  },
  {
   "cell_type": "code",
   "execution_count": null,
   "metadata": {},
   "outputs": [],
   "source": [
    "low_E_sites = np.arange(0, n_orb, 2)  # low-energy sites defined to be indexed by even numbers\n",
    "high_E_sites = np.arange(1, n_orb, 2)  # high-energy sites defined to be indexed by odd numbers\n",
    "\n",
    "omit_site = 6  # omitting one of the low energy sites\n",
    "tf_list = list(np.setdiff1d(low_E_sites, [omit_site])) \n",
    "\n",
    "n_tfs = len(tf_list)\n",
    "\n",
    "print(f\"Trial wavefunctions: {tf_list}\")\n",
    "print(f\"# of Wannier functions: {n_tfs}\")\n",
    "print(f\"# of occupied bands: {n_occ}\")\n",
    "print(f\"Wannier fraction: {n_tfs/n_occ}\")"
   ]
  },
  {
   "cell_type": "markdown",
   "metadata": {},
   "source": [
    "As before, instantiate the Wannier class and start with the initial projection"
   ]
  },
  {
   "cell_type": "code",
   "execution_count": null,
   "metadata": {},
   "outputs": [],
   "source": [
    "nks = 20, 20  # number of k points along each dimension\n",
    "WF = Wannier(model, nks)\n",
    "\n",
    "WF.single_shot(tf_list, band_idxs=list(range(n_occ)))"
   ]
  },
  {
   "cell_type": "markdown",
   "metadata": {},
   "source": [
    "Now we have an initial subspace. We can use disentanglement, or subspace selection, to find the subspace with the minimal gauge-dependent spread $\\Omega_I$"
   ]
  },
  {
   "cell_type": "code",
   "execution_count": null,
   "metadata": {},
   "outputs": [],
   "source": [
    "# subspace selection\n",
    "WF.subspace_selec(iter_num=200, tol=1e-10, verbose=True)"
   ]
  },
  {
   "cell_type": "markdown",
   "metadata": {},
   "source": [
    "To obtain maximally localized Wannier functions, we follow this with another projection to initialize a smooth gauge, then maximal localization.\n",
    "- Note we must pass the flag `tilde=True` to indicate we are projecting the trial wavefunctions onto the tilde states and not the energy eigenstates"
   ]
  },
  {
   "cell_type": "code",
   "execution_count": null,
   "metadata": {},
   "outputs": [],
   "source": [
    "WF.single_shot(tf_list, tilde=True)\n",
    "WF.max_loc(eps=1e-3, iter_num=1000, tol=1e-10, grad_min=1e-10, verbose=False)"
   ]
  },
  {
   "cell_type": "code",
   "execution_count": null,
   "metadata": {},
   "outputs": [],
   "source": [
    "WF.report()"
   ]
  },
  {
   "cell_type": "code",
   "execution_count": null,
   "metadata": {},
   "outputs": [],
   "source": [
    "WF.plot_density(0)\n",
    "WF.plot_decay(0, fit_rng=[0,20])"
   ]
  },
  {
   "cell_type": "markdown",
   "metadata": {},
   "source": [
    "## Wannier interpolation\n",
    "\n",
    "We can view the Wannier interpolated bands by calling `plot_interp_bands`. We specify a set of high-symmetry k-points that defines the one-dimensional path along which the bands are plotted. "
   ]
  },
  {
   "cell_type": "code",
   "execution_count": null,
   "metadata": {},
   "outputs": [],
   "source": [
    "k_path = [[0, 0], [2/3, 1/3], [.5, .5], [1/3, 2/3], [0, 0], [.5, .5]]\n",
    "k_label = (r'$\\Gamma $',r'$K$', r'$M$', r'$K^\\prime$', r'$\\Gamma $', r'$M$')\n",
    "\n",
    "# Ploting Wannier interpolated bands\n",
    "fig, ax = WF.tilde_states.plot_interp_bands(\n",
    "    k_path, nk=501, k_label=k_label, red_lat_idx=high_E_sites, cmap='plasma')\n",
    "\n",
    "# Plotting actual bands for comparison\n",
    "(k_vec, k_dist, k_node) = model.k_path(k_path, 501, report=False)\n",
    "evals, evecs = model.solve_ham(k_vec, return_eigvecs=True)\n",
    "n_eigs = evecs.shape[-2]\n",
    "for n in range(evals.shape[-1]):\n",
    "    ax.plot(k_dist, evals[:, n], c='k', lw=2, zorder=0, alpha=0.25)"
   ]
  },
  {
   "cell_type": "markdown",
   "metadata": {},
   "source": [
    "If we like, these interpolated energies and eigenstates are also directly accesible using `interp_energies` and the optional flag `ret_eigvecs` to obtain the eigenvectors."
   ]
  },
  {
   "cell_type": "code",
   "execution_count": null,
   "metadata": {},
   "outputs": [],
   "source": [
    "k_path = [[0, 0], [2/3, 1/3], [.5, .5], [1/3, 2/3], [0, 0], [.5, .5]]\n",
    "k_label = (r'$\\Gamma $',r'$K$', r'$M$', r'$K^\\prime$', r'$\\Gamma $', r'$M$')\n",
    "(k_vec, k_dist, k_node) = model.k_path(k_path, 501, report=False)\n",
    "\n",
    "# Reduced Wannier interpolated energies and states\n",
    "interp_energies, interp_unk = WF.interp_energies(k_vec, ret_eigvecs=True)"
   ]
  }
 ],
 "metadata": {
  "kernelspec": {
   "display_name": "wanpy",
   "language": "python",
   "name": "python3"
  },
  "language_info": {
   "codemirror_mode": {
    "name": "ipython",
    "version": 3
   },
   "file_extension": ".py",
   "mimetype": "text/x-python",
   "name": "python",
   "nbconvert_exporter": "python",
   "pygments_lexer": "ipython3",
   "version": "3.10.16"
  }
 },
 "nbformat": 4,
 "nbformat_minor": 2
}
