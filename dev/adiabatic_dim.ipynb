{
 "cells": [
  {
   "cell_type": "code",
   "execution_count": 13,
   "metadata": {},
   "outputs": [
    {
     "name": "stdout",
     "output_type": "stream",
     "text": [
      "/Users/treycole/Repos/WanPy/dev\n",
      "The line_profiler extension is already loaded. To reload it, use:\n",
      "  %reload_ext line_profiler\n"
     ]
    }
   ],
   "source": [
    "import os\n",
    "import sys\n",
    "print(os.getcwd())\n",
    "sys.path.append(\"../WanPy\")\n",
    "\n",
    "import numpy as np\n",
    "from pythtb import *\n",
    "from wpythtb import *\n",
    "from models import *\n",
    "import matplotlib.pyplot as plt\n",
    "from functools import partial\n",
    "\n",
    "%load_ext line_profiler\n",
    "%timeit"
   ]
  },
  {
   "cell_type": "code",
   "execution_count": 2,
   "metadata": {},
   "outputs": [],
   "source": [
    "def compute_d4k_and_d2k(delta_k):\n",
    "    \"\"\"\n",
    "    Computes the 4D volume element d^4k and the 2D plaquette areas d^2k for a given set of difference vectors in 4D space.\n",
    "\n",
    "    Parameters:\n",
    "    delta_k (numpy.ndarray): A 4x4 matrix where each row is a 4D difference vector.\n",
    "\n",
    "    Returns:\n",
    "    tuple: (d4k, plaquette_areas) where\n",
    "        - d4k is the absolute determinant of delta_k (4D volume element).\n",
    "        - plaquette_areas is a dictionary with keys (i, j) and values representing d^2k_{ij}.\n",
    "    \"\"\"\n",
    "    # Compute d^4k as the determinant of the 4x4 difference matrix\n",
    "    d4k = np.abs(np.linalg.det(delta_k))\n",
    "\n",
    "    # Function to compute 2D plaquette area in 4D space\n",
    "    def compute_plaquette_area(v1, v2):\n",
    "        \"\"\"Compute the 2D plaquette area spanned by two 4D vectors.\"\"\"\n",
    "        area_squared = 0.0\n",
    "        # Sum over all unique (m, n) pairs where m < n\n",
    "        for m in range(4):\n",
    "            for n in range(m + 1, 4):\n",
    "                area_squared += (v1[m] * v2[n] - v1[n] * v2[m]) ** 2\n",
    "        return np.sqrt(area_squared)\n",
    "\n",
    "    # Compute all unique plaquette areas\n",
    "    plaquette_areas = {}\n",
    "    for i in range(4):\n",
    "        for j in range(i + 1, 4):\n",
    "            plaquette_areas[(i, j)] = compute_plaquette_area(delta_k[i], delta_k[j])\n",
    "\n",
    "    return d4k, plaquette_areas"
   ]
  },
  {
   "cell_type": "code",
   "execution_count": 4,
   "metadata": {},
   "outputs": [
    {
     "name": "stdout",
     "output_type": "stream",
     "text": [
      "Total number of parameter points:  400000\n"
     ]
    }
   ],
   "source": [
    "t = 2.0  # spin-independent first-neighbor hop\n",
    "soc = 1  # spin-dependent second-neighbor hop\n",
    "m = 1  # magnetic field magnitude\n",
    "beta = 0\n",
    "fkm_model = fu_kane_mele(t, soc, m, beta)\n",
    "\n",
    "recip_lat_vecs = fkm_model.get_recip_lat_vecs()\n",
    "\n",
    "nks = 20, 20, 20\n",
    "n_beta = 50\n",
    "n_param = nks + (n_beta,)\n",
    "max_beta = 2*np.pi\n",
    "betas = np.linspace(0, max_beta, n_beta, endpoint=False) # change to endpoint=False for periodic\n",
    "fixed_params = {\"t\": 1.0, \"soc\": 1/4, \"m\": 1/2}\n",
    "lambda_vals = {\"beta\": betas}\n",
    "model_gen = partial(fu_kane_mele, **fixed_params)\n",
    "\n",
    "print(\"Total number of parameter points: \", np.prod(n_param))"
   ]
  },
  {
   "cell_type": "code",
   "execution_count": 5,
   "metadata": {},
   "outputs": [
    {
     "name": "stdout",
     "output_type": "stream",
     "text": [
      "6.283185307179586 True\n",
      "Number of states: 4\n",
      "Number of occupied bands: 2\n",
      "Shape of wf array: (20, 20, 20, 50, 4, 2, 2)\n",
      "{'wf shape': (20, 20, 20, 50, 4, 2, 2), 'Number of axes': 7, 'k-axes': (0, 1, 2), 'lambda-axes': (3,), 'spin-axis': -1, 'orbital axis': -2, 'state axis': -3}\n"
     ]
    }
   ],
   "source": [
    "bloch_states = Bloch(fkm_model, *n_param)\n",
    "bloch_states.solve_model(model_fxn=model_gen, lambda_vals=lambda_vals)\n",
    "bloch_states.set_pbc_lam()\n",
    "\n",
    "u_wfs = bloch_states.get_states()[\"Cell periodic\"]\n",
    "n_occ = bloch_states._n_states//2\n",
    "\n",
    "print(max_beta, bloch_states.pbc_lam)\n",
    "print(\"Number of states:\", bloch_states._n_states)\n",
    "print(\"Number of occupied bands:\", n_occ)\n",
    "print(\"Shape of wf array:\", u_wfs.shape)\n",
    "print(bloch_states.get_wf_axes())"
   ]
  },
  {
   "cell_type": "code",
   "execution_count": 6,
   "metadata": {},
   "outputs": [
    {
     "name": "stdout",
     "output_type": "stream",
     "text": [
      "3 1 4\n",
      "dk vectors: \n",
      " [[-0.15707963  0.15707963  0.15707963  0.        ]\n",
      " [ 0.15707963 -0.15707963  0.15707963  0.        ]\n",
      " [ 0.15707963  0.15707963 -0.15707963  0.        ]\n",
      " [ 0.          0.          0.          0.12566371]]\n",
      "det(dk) = 0.0019481818206800502\n"
     ]
    }
   ],
   "source": [
    "dim_k = bloch_states.dim_k   # Number of k-space dimensions\n",
    "dim_lam = bloch_states.dim_lam  # Number of adiabatic dimensions\n",
    "dim_total = bloch_states.dim_param  # Total number of dimensions\n",
    "\n",
    "print(dim_k, dim_lam, dim_total)\n",
    "\n",
    "# Construct delta_k with 4D embedding (extra zeros for adiabatic params)\n",
    "delta_k = np.zeros((dim_k, dim_total))  # (3, dim_total)\n",
    "delta_k[:, :dim_k] = recip_lat_vecs / np.array(bloch_states.nks)[:, None]\n",
    "# Construct delta_lambda (embedding into 4D with zeros in k-space parts)\n",
    "delta_lam = np.zeros((dim_lam, dim_total))  # (dim_lam, dim_total)\n",
    "np.fill_diagonal(delta_lam[:, dim_k:], max_beta / np.array(bloch_states.n_lambda))\n",
    "\n",
    "dk = np.vstack([delta_k, delta_lam])  # (dim_total, dim_total)\n",
    "d4k = np.linalg.det(dk)\n",
    "\n",
    "print(\"dk vectors: \\n\",dk)\n",
    "print(\"det(dk) =\", d4k)"
   ]
  },
  {
   "cell_type": "code",
   "execution_count": 8,
   "metadata": {},
   "outputs": [
    {
     "name": "stdout",
     "output_type": "stream",
     "text": [
      "d^4k (4D Volume Element): 0.0019481818206800502\n",
      "Plaquette Areas (d^2k):\n",
      "d^2k_(0, 1) = 0.06978864199638879\n",
      "d^2k_(0, 2) = 0.06978864199638879\n",
      "d^2k_(0, 3) = 0.03418931254658434\n",
      "d^2k_(1, 2) = 0.06978864199638879\n",
      "d^2k_(1, 3) = 0.03418931254658434\n",
      "d^2k_(2, 3) = 0.03418931254658434\n"
     ]
    }
   ],
   "source": [
    "# Compute d4k and d2k values\n",
    "d4k, d2ks = compute_d4k_and_d2k(dk)\n",
    "\n",
    "# Print results\n",
    "print(\"d^4k (4D Volume Element):\", d4k)\n",
    "print(\"Plaquette Areas (d^2k):\")\n",
    "for key, value in d2ks.items():\n",
    "    print(f\"d^2k_{key} = {value}\")"
   ]
  },
  {
   "cell_type": "code",
   "execution_count": 32,
   "metadata": {},
   "outputs": [],
   "source": [
    "# %lprun -f bloch_states.berry_flux_plaq bloch_states.berry_flux_plaq(state_idx=list(range(n_occ)), non_abelian=True)"
   ]
  },
  {
   "cell_type": "code",
   "execution_count": 9,
   "metadata": {},
   "outputs": [
    {
     "name": "stdout",
     "output_type": "stream",
     "text": [
      "[[-0.15707963  0.15707963  0.15707963  0.        ]\n",
      " [ 0.15707963 -0.15707963  0.15707963  0.        ]\n",
      " [ 0.15707963  0.15707963 -0.15707963  0.        ]\n",
      " [ 0.          0.          0.          0.12566371]]\n",
      "0 1\n",
      "0 2\n",
      "0 3\n",
      "1 2\n",
      "1 3\n",
      "2 3\n",
      "[[-0.15707963  0.15707963  0.15707963  0.        ]\n",
      " [ 0.15707963 -0.15707963  0.15707963  0.        ]]\n",
      "0.06978864199638879\n",
      "[[-0.15707963  0.15707963  0.15707963  0.        ]\n",
      " [ 0.15707963  0.15707963 -0.15707963  0.        ]]\n",
      "0.06978864199638879\n",
      "[[-0.15707963  0.15707963  0.15707963  0.        ]\n",
      " [ 0.          0.          0.          0.12566371]]\n",
      "0.03418931254658432\n",
      "[[ 0.15707963 -0.15707963  0.15707963  0.        ]\n",
      " [-0.15707963  0.15707963  0.15707963  0.        ]]\n",
      "0.06978864199638879\n",
      "[[ 0.15707963 -0.15707963  0.15707963  0.        ]\n",
      " [ 0.15707963  0.15707963 -0.15707963  0.        ]]\n",
      "0.06978864199638879\n",
      "[[ 0.15707963 -0.15707963  0.15707963  0.        ]\n",
      " [ 0.          0.          0.          0.12566371]]\n",
      "0.03418931254658432\n",
      "[[ 0.15707963  0.15707963 -0.15707963  0.        ]\n",
      " [-0.15707963  0.15707963  0.15707963  0.        ]]\n",
      "0.06978864199638879\n",
      "[[ 0.15707963  0.15707963 -0.15707963  0.        ]\n",
      " [ 0.15707963 -0.15707963  0.15707963  0.        ]]\n",
      "0.06978864199638879\n",
      "[[ 0.15707963  0.15707963 -0.15707963  0.        ]\n",
      " [ 0.          0.          0.          0.12566371]]\n",
      "0.03418931254658432\n",
      "[[ 0.          0.          0.          0.12566371]\n",
      " [-0.15707963  0.15707963  0.15707963  0.        ]]\n",
      "0.03418931254658432\n",
      "[[ 0.          0.          0.          0.12566371]\n",
      " [ 0.15707963 -0.15707963  0.15707963  0.        ]]\n",
      "0.03418931254658432\n",
      "[[ 0.          0.          0.          0.12566371]\n",
      " [ 0.15707963  0.15707963 -0.15707963  0.        ]]\n",
      "0.03418931254658432\n"
     ]
    }
   ],
   "source": [
    "b_curv, b_flux = bloch_states.berry_curv(state_idx=list(range(n_occ)), non_abelian=True, diff_lam=max_beta, return_flux=True)\n",
    "# b_curv_abel = bloch_states.berry_curv(state_idx=list(range(n_occ)), non_abelian=False, diff_lam=max_beta, return_flux=False)"
   ]
  },
  {
   "cell_type": "code",
   "execution_count": 10,
   "metadata": {},
   "outputs": [
    {
     "name": "stdout",
     "output_type": "stream",
     "text": [
      "Max Berry flux: 0.2937642559720288\n",
      "Max Berry curvature: 4.209341915368258\n"
     ]
    }
   ],
   "source": [
    "print(\"Max Berry flux:\", np.max(np.abs(b_flux)))\n",
    "print(\"Max Berry curvature:\", np.max(np.abs(b_curv)))"
   ]
  },
  {
   "cell_type": "code",
   "execution_count": 11,
   "metadata": {},
   "outputs": [
    {
     "name": "stdout",
     "output_type": "stream",
     "text": [
      "0.27206990463513264 0.27206990463513264 0.27206990463513264 0.12566370614359174\n",
      "0.7698003589195012\n",
      "0.0201391674614315 0.0025307624218499124\n",
      "0.015503138340149908 0.0019481818206800487\n",
      "0.015503138340149915 0.0019481818206800502\n",
      "0.015503138340149903\n"
     ]
    }
   ],
   "source": [
    "recip_basis = recip_lat_vecs/ np.linalg.norm(recip_lat_vecs, axis=1, keepdims=True)\n",
    "g = recip_basis @ recip_basis.T\n",
    "sqrt_mtrc = np.sqrt(np.linalg.det(g))\n",
    "\n",
    "delta_k = np.array([recip_lat_vecs[k_idx]/(nk) for k_idx, nk in enumerate(nks)]) \n",
    "dk1 = np.linalg.norm(recip_lat_vecs[0]/(nks[0]))\n",
    "dk2 = np.linalg.norm(recip_lat_vecs[1]/(nks[1]))\n",
    "dk3 = np.linalg.norm(recip_lat_vecs[2]/(nks[2]))\n",
    "d_beta = max_beta/n_beta  # Step size for beta integration\n",
    "\n",
    "d3k = np.linalg.det(delta_k)\n",
    "d4k, d2ks = compute_d4k_and_d2k(dk) \n",
    "d3k_alt = np.prod([dk1, dk2, dk3])\n",
    "d4k_alt = np.prod([dk1, dk2, dk3, d_beta])\n",
    "\n",
    "print(dk1, dk2, dk3, d_beta)\n",
    "print(sqrt_mtrc)\n",
    "print(d3k_alt, d4k_alt)\n",
    "print(d3k_alt*sqrt_mtrc, d4k_alt*sqrt_mtrc)\n",
    "print(d3k, d4k)\n",
    "print(fkm_model.get_recip_vol()/np.prod(nks))"
   ]
  },
  {
   "cell_type": "code",
   "execution_count": 14,
   "metadata": {},
   "outputs": [
    {
     "name": "stdout",
     "output_type": "stream",
     "text": [
      "C2: 0.7236193600231444\n"
     ]
    }
   ],
   "source": [
    "epsilon = levi_civita(4, 4)\n",
    "chern2_density = np.einsum(\"ijkl, ij...mn, kl...nm->...\", epsilon, b_curv, b_curv) \n",
    "\n",
    "chern2 = np.sum(chern2_density) * d4k / (32 * np.pi**2)\n",
    "print(\"C2:\", chern2.real)"
   ]
  },
  {
   "cell_type": "code",
   "execution_count": 21,
   "metadata": {},
   "outputs": [
    {
     "name": "stdout",
     "output_type": "stream",
     "text": [
      "C2: 0.8862491000280088\n"
     ]
    }
   ],
   "source": [
    "epsilon = levi_civita(4, 4)\n",
    "chern2_density = np.einsum(\"ijkl, ij...mn, kl...nm->...\", epsilon, b_flux, b_flux) \n",
    "\n",
    "chern2 = np.sum(chern2_density) / (32 * np.pi**2)\n",
    "print(\"C2:\", chern2.real)"
   ]
  },
  {
   "cell_type": "code",
   "execution_count": 27,
   "metadata": {},
   "outputs": [
    {
     "data": {
      "text/plain": [
       "Text(0.5, 1.0, 'Plaquette method: Using curvature')"
      ]
     },
     "execution_count": 27,
     "metadata": {},
     "output_type": "execute_result"
    },
    {
     "data": {
      "image/png": "[encoded data removed]",
      "text/plain": [
       "<Figure size 640x480 with 1 Axes>"
      ]
     },
     "metadata": {},
     "output_type": "display_data"
    }
   ],
   "source": [
    "thetas = np.zeros(betas.shape[0], dtype=complex)\n",
    "\n",
    "chern2_density = np.einsum(\"ijkl, ij...mn, kl...nm->...\", epsilon, b_curv, b_curv)\n",
    "\n",
    "for beta_idx, beta in enumerate(betas):\n",
    "    sliced_dtheta = chern2_density[..., :beta_idx+1]\n",
    "\n",
    "    theta = np.sum(sliced_dtheta) * d4k\n",
    "    \n",
    "    thetas[beta_idx] = theta / (16 * np.pi)\n",
    "\n",
    "#### Plotting theta(beta)\n",
    "\n",
    "fig, ax = plt.subplots()\n",
    "\n",
    "ax.set_xlabel(r\"$\\beta$\", size=15)\n",
    "ax.set_ylabel(r\"$\\theta$\", size=15)\n",
    "\n",
    "tick_positions = np.arange(0, 2*np.pi+np.pi/4, np.pi/4)\n",
    "tick_labels = [\n",
    "    r\"$0$\", r\"$\\frac{\\pi}{4}$\", r\"$\\frac{\\pi}{2}$\", r\"$\\frac{3\\pi}{4}$\", r\"$\\pi$\", \n",
    "    r\"$\\frac{5\\pi}{4}$\", r\"$\\frac{6\\pi}{4}$\", r\"$\\frac{7\\pi}{4}$\", r\"$2\\pi$\"]\n",
    "\n",
    "# Set the ticks and labels for both axes\n",
    "ax.set_xticks(tick_positions)\n",
    "ax.set_xticklabels(tick_labels)\n",
    "ax.set_yticks(tick_positions)\n",
    "ax.set_yticklabels(tick_labels)\n",
    "\n",
    "# ax.set_ylim(0, np.pi+.02)\n",
    "# ax.set_xlim(0, np.pi+0.02)\n",
    "\n",
    "ax.plot(betas, thetas.real, lw=1, zorder=2, c='k')  \n",
    "ax.scatter(betas, thetas.real, s=10, zorder=2, c='b')\n",
    "ax.grid()\n",
    "ax.set_title(\"Plaquette method: Using curvature\")"
   ]
  },
  {
   "cell_type": "code",
   "execution_count": 28,
   "metadata": {},
   "outputs": [
    {
     "data": {
      "text/plain": [
       "Text(0.5, 1.0, 'Plaquette method: Using flux')"
      ]
     },
     "execution_count": 28,
     "metadata": {},
     "output_type": "execute_result"
    },
    {
     "data": {
      "image/png": "[encoded data removed]",
      "text/plain": [
       "<Figure size 640x480 with 1 Axes>"
      ]
     },
     "metadata": {},
     "output_type": "display_data"
    }
   ],
   "source": [
    "thetas = np.zeros(betas.shape[0], dtype=complex)\n",
    "\n",
    "chern2_density = np.einsum(\"ijkl, ij...mn, kl...nm->...\", epsilon, b_flux, b_flux)\n",
    "\n",
    "for beta_idx, beta in enumerate(betas):\n",
    "    sliced_dtheta = chern2_density[..., :beta_idx+1]\n",
    "\n",
    "    theta = np.sum(sliced_dtheta) \n",
    "    \n",
    "    thetas[beta_idx] = theta / (16 * np.pi)\n",
    "\n",
    "\n",
    "#### Plotting theta(beta)\n",
    "\n",
    "fig, ax = plt.subplots()\n",
    "\n",
    "ax.set_xlabel(r\"$\\beta$\", size=15)\n",
    "ax.set_ylabel(r\"$\\theta$\", size=15)\n",
    "\n",
    "tick_positions = np.arange(0, 2*np.pi+np.pi/4, np.pi/4)\n",
    "tick_labels = [\n",
    "    r\"$0$\", r\"$\\frac{\\pi}{4}$\", r\"$\\frac{\\pi}{2}$\", r\"$\\frac{3\\pi}{4}$\", r\"$\\pi$\", \n",
    "    r\"$\\frac{5\\pi}{4}$\", r\"$\\frac{6\\pi}{4}$\", r\"$\\frac{7\\pi}{4}$\", r\"$2\\pi$\"]\n",
    "\n",
    "# Set the ticks and labels for both axes\n",
    "ax.set_xticks(tick_positions)\n",
    "ax.set_xticklabels(tick_labels)\n",
    "ax.set_yticks(tick_positions)\n",
    "ax.set_yticklabels(tick_labels)\n",
    "\n",
    "# ax.set_ylim(0, np.pi+.02)\n",
    "# ax.set_xlim(0, np.pi+0.02)\n",
    "\n",
    "ax.plot(betas, thetas.real, lw=1, zorder=2, c='k')  \n",
    "ax.scatter(betas, thetas.real, s=10, zorder=2, c='b')\n",
    "ax.grid()\n",
    "ax.set_title(\"Plaquette method: Using flux\")"
   ]
  },
  {
   "cell_type": "code",
   "execution_count": 179,
   "metadata": {},
   "outputs": [
    {
     "data": {
      "text/plain": [
       "np.complex128(-0.0008939395609442095-2.979653954882076e-16j)"
      ]
     },
     "execution_count": 179,
     "metadata": {},
     "output_type": "execute_result"
    }
   ],
   "source": [
    "chern2_density[1,1,1, 28]"
   ]
  },
  {
   "cell_type": "code",
   "execution_count": 36,
   "metadata": {},
   "outputs": [
    {
     "data": {
      "text/plain": [
       "np.complex128(2.1136079023263306-7.929660727911628e-16j)"
      ]
     },
     "execution_count": 36,
     "metadata": {},
     "output_type": "execute_result"
    }
   ],
   "source": [
    "thetas[-12]"
   ]
  }
 ],
 "metadata": {
  "kernelspec": {
   "display_name": "wanpy",
   "language": "python",
   "name": "python3"
  },
  "language_info": {
   "codemirror_mode": {
    "name": "ipython",
    "version": 3
   },
   "file_extension": ".py",
   "mimetype": "text/x-python",
   "name": "python",
   "nbconvert_exporter": "python",
   "pygments_lexer": "ipython3",
   "version": "3.10.16"
  }
 },
 "nbformat": 4,
 "nbformat_minor": 2
}
