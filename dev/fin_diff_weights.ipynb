{
 "cells": [
  {
   "cell_type": "code",
   "execution_count": 1,
   "metadata": {},
   "outputs": [
    {
     "name": "stdout",
     "output_type": "stream",
     "text": [
      "/Users/treycole/Codes/WanPy\n"
     ]
    }
   ],
   "source": [
    "%cd .."
   ]
  },
  {
   "cell_type": "code",
   "execution_count": 2,
   "metadata": {},
   "outputs": [],
   "source": [
    "from WanPy.pythtb_Wannier import *\n",
    "import WanPy.models as models\n",
    "import WanPy.plotting as plot\n",
    "from itertools import product\n",
    "\n",
    "from pythtb import *\n",
    "import numpy as np\n",
    "import matplotlib.pyplot as plt\n",
    "from matplotlib.colors import LogNorm\n",
    "import sympy as sp \n",
    "import scipy"
   ]
  },
  {
   "cell_type": "code",
   "execution_count": 3,
   "metadata": {},
   "outputs": [],
   "source": [
    "def Haldane(delta, t, t2, a=1):\n",
    "    lat = a * np.array([[3/2, np.sqrt(3)/2], [3/2, -np.sqrt(3)/2]])\n",
    "    # lat = [[1, 0],[0.5, np.sqrt(3)/2]]\n",
    "    orb = [[1/3, 1/3],[2/3, 2/3]]\n",
    "\n",
    "    model = tb_model(2, 2, lat, orb)\n",
    "\n",
    "    model.set_onsite([-delta, delta], mode='reset')\n",
    "\n",
    "    for lvec in ([0, 0], [-1, 0], [0, -1]):\n",
    "        model.set_hop(t, 0, 1, lvec, mode='reset')\n",
    "        model.set_hop(t, 0, 1, lvec, mode='reset')\n",
    "\n",
    "    for lvec in ([1, 0], [-1, 1], [0, -1]):\n",
    "        model.set_hop(t2*1j, 0, 0, lvec, mode='reset')\n",
    "        model.set_hop(t2*-1j, 1, 1, lvec, mode='reset')\n",
    "\n",
    "    return model\n",
    "\n",
    "# latvecs = np.array([[3/2, np.sqrt(3)/2], [3/2, -np.sqrt(3)/2]])\n",
    "# recipvecs = (2*np.pi/3) * np.array([[1, np.sqrt(3)], [1, -np.sqrt(3)]])"
   ]
  },
  {
   "cell_type": "code",
   "execution_count": 39,
   "metadata": {},
   "outputs": [],
   "source": [
    "def get_recip_lat_vecs(lat_vecs):\n",
    "    b = 2 * np.pi * np.linalg.inv(lat_vecs).T\n",
    "    return b\n",
    "\n",
    "def get_k_shell(*nks, model, N_sh, tol_dp=8, report=False):\n",
    "\n",
    "    lat_vecs = model.get_lat() # lattice vectors\n",
    "    recip_vecs = get_recip_lat_vecs(lat_vecs)\n",
    "    dk = np.array([recip_vecs[i]/nk for i, nk in enumerate(nks)])\n",
    "    \n",
    "    # vectors of integers multiplying dk \n",
    "    nnbr_idx = list(product(list(range(-N_sh, N_sh+1)), repeat=len(nks)))\n",
    "    nnbr_idx.remove((0,0))\n",
    "    nnbr_idx = np.array(nnbr_idx)\n",
    "\n",
    "    # vectors connecting k-points near Gamma point\n",
    "    b_vecs = np.array([nnbr_idx[i] @ dk for i in range(nnbr_idx.shape[0])]) \n",
    "    dists = np.array([np.vdot(b_vecs[i], b_vecs[i]) for i in range(b_vecs.shape[0])])\n",
    "    dists = dists.round(tol_dp) \n",
    "\n",
    "    # sorting by distance\n",
    "    sorted_idxs = np.argsort(dists)\n",
    "    dists_sorted = dists[sorted_idxs]\n",
    "    b_vecs_sorted = b_vecs[sorted_idxs]\n",
    "    nnbr_idx_sorted = nnbr_idx[sorted_idxs]\n",
    "\n",
    "    # keep only b_vecs in N_sh shells \n",
    "    unique_dists = sorted(list(set(dists)))\n",
    "    keep_dists = unique_dists[:N_sh]\n",
    "    k_shell = [b_vecs_sorted[np.isin(dists_sorted, keep_dists[i])] for i in range(len(keep_dists))]\n",
    "    idx_shell = [nnbr_idx_sorted[np.isin(dists_sorted, keep_dists[i])] for i in range(len(keep_dists))]\n",
    "\n",
    "    if report:\n",
    "        dist_degen = {ud: len(k_shell[i]) for i, ud in enumerate(keep_dists)}\n",
    "        print(f\"Shell distances and degeneracies: {dist_degen}\")\n",
    "        print(f\"k-shells: {k_shell}\")\n",
    "        print(f\"idx-shells: {idx_shell}\")\n",
    "        \n",
    "    return k_shell, idx_shell\n",
    "        \n",
    "\n",
    "def get_weights(*nks, model, N_sh=1, report=False):\n",
    "    k_shell, _ = get_k_shell(*nks, model=model, N_sh=N_sh, report=report)\n",
    "    dim_k = len(nks)\n",
    "    Cart_idx = list(comb(range(dim_k), 2))\n",
    "    n_comb = len(Cart_idx)\n",
    "\n",
    "    A = np.zeros((n_comb, N_sh))\n",
    "    q = np.zeros((n_comb))\n",
    "\n",
    "    for j, (alpha, beta) in enumerate(Cart_idx):\n",
    "        if alpha == beta:\n",
    "            q[j] = 1\n",
    "        for s in range(N_sh):\n",
    "            b_star = k_shell[s]\n",
    "            for i in range(b_star.shape[0]):\n",
    "                b = b_star[i]\n",
    "                A[j, s] += b[alpha] * b[beta]\n",
    "                \n",
    "    U, D, Vt = np.linalg.svd(A, full_matrices=False)\n",
    "    w = (Vt.T @ np.linalg.inv(np.diag(D)) @ U.T) @ q\n",
    "\n",
    "    return w"
   ]
  },
  {
   "cell_type": "code",
   "execution_count": 77,
   "metadata": {},
   "outputs": [
    {
     "data": {
      "text/plain": [
       "array([[ 6.28318531, -3.62759873],\n",
       "       [ 0.        ,  7.25519746]])"
      ]
     },
     "execution_count": 77,
     "metadata": {},
     "output_type": "execute_result"
    }
   ],
   "source": [
    "# model = models.chessboard(0, 0, 0)#.make_supercell([[2,0], [0,2]])\n",
    "model = models.Haldane(0, 0, 0)#.make_supercell([[2,0], [0,2]])\n",
    "lat_vecs = model.get_lat() # lattice vectors\n",
    "recip_vecs = get_recip_lat_vecs(lat_vecs)\n",
    "orbs = model.get_orb()\n",
    "\n",
    "recip_vecs"
   ]
  },
  {
   "cell_type": "code",
   "execution_count": 83,
   "metadata": {},
   "outputs": [
    {
     "name": "stdout",
     "output_type": "stream",
     "text": [
      "Distances and degeneracies: {1.46216361: 6}\n",
      "k-shells: [array([[-1.04719755, -0.60459979],\n",
      "       [-1.04719755,  0.60459979],\n",
      "       [ 0.        , -1.20919958],\n",
      "       [ 0.        ,  1.20919958],\n",
      "       [ 1.04719755, -0.60459979],\n",
      "       [ 1.04719755,  0.60459979]])]\n",
      "idx-shells: [array([[-1, -1],\n",
      "       [-1,  0],\n",
      "       [ 0, -1],\n",
      "       [ 0,  1],\n",
      "       [ 1,  0],\n",
      "       [ 1,  1]])]\n"
     ]
    }
   ],
   "source": [
    "N_sh = 1\n",
    "nks = 6, 6\n",
    "tol_dp = 8\n",
    "\n",
    "dk = np.array([recip_vecs[i]/nk for i, nk in enumerate(nks)])\n",
    "nnbr_mask = list(product(list(range(-N_sh, N_sh+1)), repeat=len(nks)))\n",
    "nnbr_mask.remove((0,0))\n",
    "nnbr_mask = np.array(nnbr_mask)\n",
    "bs = np.array([nnbr_mask[i] @ dk for i in range(nnbr_mask.shape[0])]) \n",
    "dists = np.array([np.vdot(bs[i], bs[i]) for i in range(bs.shape[0])])\n",
    "dists = dists.round(tol_dp)\n",
    "sorted_idxs = np.argsort(dists)\n",
    "dists_sorted = dists[sorted_idxs]\n",
    "bs_sorted = bs[sorted_idxs]\n",
    "mask_sorted = nnbr_mask[sorted_idxs]\n",
    "\n",
    "unique_dists = sorted(list(set(dists)))\n",
    "num_shells = len(unique_dists)\n",
    "keep_dists = unique_dists[:N_sh]\n",
    "k_shell = [bs_sorted[np.isin(dists_sorted, keep_dists[i])] for i in range(len(keep_dists))]\n",
    "idx_shell = [mask_sorted[np.isin(dists_sorted, keep_dists[i])] for i in range(len(keep_dists))]\n",
    "dist_degen = {ud: len(k_shell[i]) for i, ud in enumerate(keep_dists)}\n",
    "\n",
    "print(f\"Distances and degeneracies: {dist_degen}\")\n",
    "print(f\"k-shells: {k_shell}\")\n",
    "print(f\"idx-shells: {idx_shell}\")"
   ]
  },
  {
   "cell_type": "code",
   "execution_count": 84,
   "metadata": {},
   "outputs": [
    {
     "data": {
      "text/plain": [
       "array([[-1.04719755, -0.60459979],\n",
       "       [-1.04719755,  0.60459979],\n",
       "       [ 0.        , -1.20919958],\n",
       "       [ 0.        ,  1.20919958],\n",
       "       [ 1.04719755, -0.60459979],\n",
       "       [ 1.04719755,  0.60459979]])"
      ]
     },
     "execution_count": 84,
     "metadata": {},
     "output_type": "execute_result"
    }
   ],
   "source": [
    "k_shell[0]"
   ]
  },
  {
   "cell_type": "code",
   "execution_count": 85,
   "metadata": {},
   "outputs": [
    {
     "name": "stdout",
     "output_type": "stream",
     "text": [
      "Shell distances and degeneracies: {1.46216361: 6}\n",
      "k-shells: [array([[-1.04719755, -0.60459979],\n",
      "       [-1.04719755,  0.60459979],\n",
      "       [ 0.        , -1.20919958],\n",
      "       [ 0.        ,  1.20919958],\n",
      "       [ 1.04719755, -0.60459979],\n",
      "       [ 1.04719755,  0.60459979]])]\n",
      "idx-shells: [array([[-1, -1],\n",
      "       [-1,  0],\n",
      "       [ 0, -1],\n",
      "       [ 0,  1],\n",
      "       [ 1,  0],\n",
      "       [ 1,  1]])]\n"
     ]
    },
    {
     "data": {
      "text/plain": [
       "array([0.22797266])"
      ]
     },
     "execution_count": 85,
     "metadata": {},
     "output_type": "execute_result"
    }
   ],
   "source": [
    "w_b = get_weights(*nks, model=model, N_sh=N_sh, report=True)\n",
    "w_b"
   ]
  },
  {
   "cell_type": "code",
   "execution_count": 86,
   "metadata": {},
   "outputs": [
    {
     "data": {
      "text/plain": [
       "0.45594532639052004"
      ]
     },
     "execution_count": 86,
     "metadata": {},
     "output_type": "execute_result"
    }
   ],
   "source": [
    "1/(2*(np.vdot(bs[0,0], bs[0,0])))"
   ]
  },
  {
   "cell_type": "code",
   "execution_count": 87,
   "metadata": {},
   "outputs": [
    {
     "data": {
      "text/plain": [
       "1.0"
      ]
     },
     "execution_count": 87,
     "metadata": {},
     "output_type": "execute_result"
    }
   ],
   "source": [
    "res = 0\n",
    "alpha = 1\n",
    "beta = 1\n",
    "\n",
    "for s in range(len(k_shell)):\n",
    "    b_star = k_shell[s]\n",
    "    # print(b_star)\n",
    "    for i in range(b_star.shape[0]):\n",
    "        b = b_star[i]\n",
    "        res += w_b[s] * b[alpha] * b[beta]\n",
    "\n",
    "res"
   ]
  },
  {
   "cell_type": "code",
   "execution_count": 88,
   "metadata": {},
   "outputs": [
    {
     "data": {
      "text/plain": [
       "array([[ 6.28318531, -3.62759873],\n",
       "       [ 0.        ,  7.25519746]])"
      ]
     },
     "execution_count": 88,
     "metadata": {},
     "output_type": "execute_result"
    }
   ],
   "source": [
    "recip_vecs"
   ]
  },
  {
   "cell_type": "code",
   "execution_count": 89,
   "metadata": {},
   "outputs": [
    {
     "data": {
      "text/plain": [
       "array([[0.33333333, 0.33333333],\n",
       "       [0.66666667, 0.66666667]])"
      ]
     },
     "execution_count": 89,
     "metadata": {},
     "output_type": "execute_result"
    }
   ],
   "source": [
    "orbs"
   ]
  },
  {
   "cell_type": "code",
   "execution_count": 90,
   "metadata": {},
   "outputs": [
    {
     "name": "stdout",
     "output_type": "stream",
     "text": [
      "idx_vec:  [-1 -1]\n",
      "k_idx: (0, 0), k_nbr_idx: [-1 -1]\n",
      "k_nbr point:  [-1.04719755 -0.60459979]\n",
      "mod [5 5]\n",
      "diff [-6 -6]\n",
      "G [-1. -1.]\n",
      "[-0.66666667 -1.33333333]\n",
      "\n",
      "idx_vec:  [-1  0]\n",
      "k_idx: (0, 0), k_nbr_idx: [-1  0]\n",
      "k_nbr point:  [-1.04719755  0.60459979]\n",
      "mod [5 0]\n",
      "diff [-6  0]\n",
      "G [-1.  0.]\n",
      "[-0.33333333 -0.66666667]\n",
      "\n",
      "idx_vec:  [ 0 -1]\n",
      "k_idx: (0, 0), k_nbr_idx: [ 0 -1]\n",
      "k_nbr point:  [ 0.         -1.20919958]\n",
      "mod [0 5]\n",
      "diff [ 0 -6]\n",
      "G [ 0. -1.]\n",
      "[-0.33333333 -0.66666667]\n",
      "\n",
      "idx_vec:  [-1 -1]\n",
      "k_idx: (0, 1), k_nbr_idx: [-1  0]\n",
      "k_nbr point:  [-1.04719755  0.60459979]\n",
      "mod [5 0]\n",
      "diff [-6  0]\n",
      "G [-1.  0.]\n",
      "[-0.33333333 -0.66666667]\n",
      "\n",
      "idx_vec:  [-1  0]\n",
      "k_idx: (0, 1), k_nbr_idx: [-1  1]\n",
      "k_nbr point:  [-1.04719755  1.81379936]\n",
      "mod [5 1]\n",
      "diff [-6  0]\n",
      "G [-1.  0.]\n",
      "[-0.33333333 -0.66666667]\n",
      "\n",
      "idx_vec:  [-1 -1]\n",
      "k_idx: (0, 2), k_nbr_idx: [-1  1]\n",
      "k_nbr point:  [-1.04719755  1.81379936]\n",
      "mod [5 1]\n",
      "diff [-6  0]\n",
      "G [-1.  0.]\n",
      "[-0.33333333 -0.66666667]\n",
      "\n",
      "idx_vec:  [-1  0]\n",
      "k_idx: (0, 2), k_nbr_idx: [-1  2]\n",
      "k_nbr point:  [-1.04719755  3.02299894]\n",
      "mod [5 2]\n",
      "diff [-6  0]\n",
      "G [-1.  0.]\n",
      "[-0.33333333 -0.66666667]\n",
      "\n",
      "idx_vec:  [-1 -1]\n",
      "k_idx: (0, 3), k_nbr_idx: [-1  2]\n",
      "k_nbr point:  [-1.04719755  3.02299894]\n",
      "mod [5 2]\n",
      "diff [-6  0]\n",
      "G [-1.  0.]\n",
      "[-0.33333333 -0.66666667]\n",
      "\n",
      "idx_vec:  [-1  0]\n",
      "k_idx: (0, 3), k_nbr_idx: [-1  3]\n",
      "k_nbr point:  [-1.04719755  4.23219852]\n",
      "mod [5 3]\n",
      "diff [-6  0]\n",
      "G [-1.  0.]\n",
      "[-0.33333333 -0.66666667]\n",
      "\n",
      "idx_vec:  [-1 -1]\n",
      "k_idx: (0, 4), k_nbr_idx: [-1  3]\n",
      "k_nbr point:  [-1.04719755  4.23219852]\n",
      "mod [5 3]\n",
      "diff [-6  0]\n",
      "G [-1.  0.]\n",
      "[-0.33333333 -0.66666667]\n",
      "\n",
      "idx_vec:  [-1  0]\n",
      "k_idx: (0, 4), k_nbr_idx: [-1  4]\n",
      "k_nbr point:  [-1.04719755  5.44139809]\n",
      "mod [5 4]\n",
      "diff [-6  0]\n",
      "G [-1.  0.]\n",
      "[-0.33333333 -0.66666667]\n",
      "\n",
      "idx_vec:  [-1 -1]\n",
      "k_idx: (0, 5), k_nbr_idx: [-1  4]\n",
      "k_nbr point:  [-1.04719755  5.44139809]\n",
      "mod [5 4]\n",
      "diff [-6  0]\n",
      "G [-1.  0.]\n",
      "[-0.33333333 -0.66666667]\n",
      "\n",
      "idx_vec:  [-1  0]\n",
      "k_idx: (0, 5), k_nbr_idx: [-1  5]\n",
      "k_nbr point:  [-1.04719755  6.65059767]\n",
      "mod [5 5]\n",
      "diff [-6  0]\n",
      "G [-1.  0.]\n",
      "[-0.33333333 -0.66666667]\n",
      "\n",
      "idx_vec:  [0 1]\n",
      "k_idx: (0, 5), k_nbr_idx: [0 6]\n",
      "k_nbr point:  [0.         7.25519746]\n",
      "mod [0 0]\n",
      "diff [0 6]\n",
      "G [0. 1.]\n",
      "[0.33333333 0.66666667]\n",
      "\n",
      "idx_vec:  [1 1]\n",
      "k_idx: (0, 5), k_nbr_idx: [1 6]\n",
      "k_nbr point:  [1.04719755 6.65059767]\n",
      "mod [1 0]\n",
      "diff [0 6]\n",
      "G [0. 1.]\n",
      "[0.33333333 0.66666667]\n",
      "\n",
      "idx_vec:  [-1 -1]\n",
      "k_idx: (1, 0), k_nbr_idx: [ 0 -1]\n",
      "k_nbr point:  [ 0.         -1.20919958]\n",
      "mod [0 5]\n",
      "diff [ 0 -6]\n",
      "G [ 0. -1.]\n",
      "[-0.33333333 -0.66666667]\n",
      "\n",
      "idx_vec:  [ 0 -1]\n",
      "k_idx: (1, 0), k_nbr_idx: [ 1 -1]\n",
      "k_nbr point:  [ 1.04719755 -1.81379936]\n",
      "mod [1 5]\n",
      "diff [ 0 -6]\n",
      "G [ 0. -1.]\n",
      "[-0.33333333 -0.66666667]\n",
      "\n",
      "idx_vec:  [0 1]\n",
      "k_idx: (1, 5), k_nbr_idx: [1 6]\n",
      "k_nbr point:  [1.04719755 6.65059767]\n",
      "mod [1 0]\n",
      "diff [0 6]\n",
      "G [0. 1.]\n",
      "[0.33333333 0.66666667]\n",
      "\n",
      "idx_vec:  [1 1]\n",
      "k_idx: (1, 5), k_nbr_idx: [2 6]\n",
      "k_nbr point:  [2.0943951  6.04599788]\n",
      "mod [2 0]\n",
      "diff [0 6]\n",
      "G [0. 1.]\n",
      "[0.33333333 0.66666667]\n",
      "\n",
      "idx_vec:  [-1 -1]\n",
      "k_idx: (2, 0), k_nbr_idx: [ 1 -1]\n",
      "k_nbr point:  [ 1.04719755 -1.81379936]\n",
      "mod [1 5]\n",
      "diff [ 0 -6]\n",
      "G [ 0. -1.]\n",
      "[-0.33333333 -0.66666667]\n",
      "\n",
      "idx_vec:  [ 0 -1]\n",
      "k_idx: (2, 0), k_nbr_idx: [ 2 -1]\n",
      "k_nbr point:  [ 2.0943951  -2.41839915]\n",
      "mod [2 5]\n",
      "diff [ 0 -6]\n",
      "G [ 0. -1.]\n",
      "[-0.33333333 -0.66666667]\n",
      "\n",
      "idx_vec:  [0 1]\n",
      "k_idx: (2, 5), k_nbr_idx: [2 6]\n",
      "k_nbr point:  [2.0943951  6.04599788]\n",
      "mod [2 0]\n",
      "diff [0 6]\n",
      "G [0. 1.]\n",
      "[0.33333333 0.66666667]\n",
      "\n",
      "idx_vec:  [1 1]\n",
      "k_idx: (2, 5), k_nbr_idx: [3 6]\n",
      "k_nbr point:  [3.14159265 5.44139809]\n",
      "mod [3 0]\n",
      "diff [0 6]\n",
      "G [0. 1.]\n",
      "[0.33333333 0.66666667]\n",
      "\n",
      "idx_vec:  [-1 -1]\n",
      "k_idx: (3, 0), k_nbr_idx: [ 2 -1]\n",
      "k_nbr point:  [ 2.0943951  -2.41839915]\n",
      "mod [2 5]\n",
      "diff [ 0 -6]\n",
      "G [ 0. -1.]\n",
      "[-0.33333333 -0.66666667]\n",
      "\n",
      "idx_vec:  [ 0 -1]\n",
      "k_idx: (3, 0), k_nbr_idx: [ 3 -1]\n",
      "k_nbr point:  [ 3.14159265 -3.02299894]\n",
      "mod [3 5]\n",
      "diff [ 0 -6]\n",
      "G [ 0. -1.]\n",
      "[-0.33333333 -0.66666667]\n",
      "\n",
      "idx_vec:  [0 1]\n",
      "k_idx: (3, 5), k_nbr_idx: [3 6]\n",
      "k_nbr point:  [3.14159265 5.44139809]\n",
      "mod [3 0]\n",
      "diff [0 6]\n",
      "G [0. 1.]\n",
      "[0.33333333 0.66666667]\n",
      "\n",
      "idx_vec:  [1 1]\n",
      "k_idx: (3, 5), k_nbr_idx: [4 6]\n",
      "k_nbr point:  [4.1887902 4.8367983]\n",
      "mod [4 0]\n",
      "diff [0 6]\n",
      "G [0. 1.]\n",
      "[0.33333333 0.66666667]\n",
      "\n",
      "idx_vec:  [-1 -1]\n",
      "k_idx: (4, 0), k_nbr_idx: [ 3 -1]\n",
      "k_nbr point:  [ 3.14159265 -3.02299894]\n",
      "mod [3 5]\n",
      "diff [ 0 -6]\n",
      "G [ 0. -1.]\n",
      "[-0.33333333 -0.66666667]\n",
      "\n",
      "idx_vec:  [ 0 -1]\n",
      "k_idx: (4, 0), k_nbr_idx: [ 4 -1]\n",
      "k_nbr point:  [ 4.1887902  -3.62759873]\n",
      "mod [4 5]\n",
      "diff [ 0 -6]\n",
      "G [ 0. -1.]\n",
      "[-0.33333333 -0.66666667]\n",
      "\n",
      "idx_vec:  [0 1]\n",
      "k_idx: (4, 5), k_nbr_idx: [4 6]\n",
      "k_nbr point:  [4.1887902 4.8367983]\n",
      "mod [4 0]\n",
      "diff [0 6]\n",
      "G [0. 1.]\n",
      "[0.33333333 0.66666667]\n",
      "\n",
      "idx_vec:  [1 1]\n",
      "k_idx: (4, 5), k_nbr_idx: [5 6]\n",
      "k_nbr point:  [5.23598776 4.23219852]\n",
      "mod [5 0]\n",
      "diff [0 6]\n",
      "G [0. 1.]\n",
      "[0.33333333 0.66666667]\n",
      "\n",
      "idx_vec:  [-1 -1]\n",
      "k_idx: (5, 0), k_nbr_idx: [ 4 -1]\n",
      "k_nbr point:  [ 4.1887902  -3.62759873]\n",
      "mod [4 5]\n",
      "diff [ 0 -6]\n",
      "G [ 0. -1.]\n",
      "[-0.33333333 -0.66666667]\n",
      "\n",
      "idx_vec:  [ 0 -1]\n",
      "k_idx: (5, 0), k_nbr_idx: [ 5 -1]\n",
      "k_nbr point:  [ 5.23598776 -4.23219852]\n",
      "mod [5 5]\n",
      "diff [ 0 -6]\n",
      "G [ 0. -1.]\n",
      "[-0.33333333 -0.66666667]\n",
      "\n",
      "idx_vec:  [1 0]\n",
      "k_idx: (5, 0), k_nbr_idx: [6 0]\n",
      "k_nbr point:  [ 6.28318531 -3.62759873]\n",
      "mod [0 0]\n",
      "diff [6 0]\n",
      "G [1. 0.]\n",
      "[0.33333333 0.66666667]\n",
      "\n",
      "idx_vec:  [1 1]\n",
      "k_idx: (5, 0), k_nbr_idx: [6 1]\n",
      "k_nbr point:  [ 6.28318531 -2.41839915]\n",
      "mod [0 1]\n",
      "diff [6 0]\n",
      "G [1. 0.]\n",
      "[0.33333333 0.66666667]\n",
      "\n",
      "idx_vec:  [1 0]\n",
      "k_idx: (5, 1), k_nbr_idx: [6 1]\n",
      "k_nbr point:  [ 6.28318531 -2.41839915]\n",
      "mod [0 1]\n",
      "diff [6 0]\n",
      "G [1. 0.]\n",
      "[0.33333333 0.66666667]\n",
      "\n",
      "idx_vec:  [1 1]\n",
      "k_idx: (5, 1), k_nbr_idx: [6 2]\n",
      "k_nbr point:  [ 6.28318531 -1.20919958]\n",
      "mod [0 2]\n",
      "diff [6 0]\n",
      "G [1. 0.]\n",
      "[0.33333333 0.66666667]\n",
      "\n",
      "idx_vec:  [1 0]\n",
      "k_idx: (5, 2), k_nbr_idx: [6 2]\n",
      "k_nbr point:  [ 6.28318531 -1.20919958]\n",
      "mod [0 2]\n",
      "diff [6 0]\n",
      "G [1. 0.]\n",
      "[0.33333333 0.66666667]\n",
      "\n",
      "idx_vec:  [1 1]\n",
      "k_idx: (5, 2), k_nbr_idx: [6 3]\n",
      "k_nbr point:  [6.28318531 0.        ]\n",
      "mod [0 3]\n",
      "diff [6 0]\n",
      "G [1. 0.]\n",
      "[0.33333333 0.66666667]\n",
      "\n",
      "idx_vec:  [1 0]\n",
      "k_idx: (5, 3), k_nbr_idx: [6 3]\n",
      "k_nbr point:  [6.28318531 0.        ]\n",
      "mod [0 3]\n",
      "diff [6 0]\n",
      "G [1. 0.]\n",
      "[0.33333333 0.66666667]\n",
      "\n",
      "idx_vec:  [1 1]\n",
      "k_idx: (5, 3), k_nbr_idx: [6 4]\n",
      "k_nbr point:  [6.28318531 1.20919958]\n",
      "mod [0 4]\n",
      "diff [6 0]\n",
      "G [1. 0.]\n",
      "[0.33333333 0.66666667]\n",
      "\n",
      "idx_vec:  [1 0]\n",
      "k_idx: (5, 4), k_nbr_idx: [6 4]\n",
      "k_nbr point:  [6.28318531 1.20919958]\n",
      "mod [0 4]\n",
      "diff [6 0]\n",
      "G [1. 0.]\n",
      "[0.33333333 0.66666667]\n",
      "\n",
      "idx_vec:  [1 1]\n",
      "k_idx: (5, 4), k_nbr_idx: [6 5]\n",
      "k_nbr point:  [6.28318531 2.41839915]\n",
      "mod [0 5]\n",
      "diff [6 0]\n",
      "G [1. 0.]\n",
      "[0.33333333 0.66666667]\n",
      "\n",
      "idx_vec:  [0 1]\n",
      "k_idx: (5, 5), k_nbr_idx: [5 6]\n",
      "k_nbr point:  [5.23598776 4.23219852]\n",
      "mod [5 0]\n",
      "diff [0 6]\n",
      "G [0. 1.]\n",
      "[0.33333333 0.66666667]\n",
      "\n",
      "idx_vec:  [1 0]\n",
      "k_idx: (5, 5), k_nbr_idx: [6 5]\n",
      "k_nbr point:  [6.28318531 2.41839915]\n",
      "mod [0 5]\n",
      "diff [6 0]\n",
      "G [1. 0.]\n",
      "[0.33333333 0.66666667]\n",
      "\n",
      "idx_vec:  [1 1]\n",
      "k_idx: (5, 5), k_nbr_idx: [6 6]\n",
      "k_nbr point:  [6.28318531 3.62759873]\n",
      "mod [0 0]\n",
      "diff [6 6]\n",
      "G [1. 1.]\n",
      "[0.66666667 1.33333333]\n",
      "\n"
     ]
    }
   ],
   "source": [
    "k_idx_arr = list(product(*[range(nk) for nk in nks])) # list of all k_indices\n",
    "for k_idx in k_idx_arr:\n",
    "    k_pt = k_idx @ dk\n",
    "    for idx, idx_vec in enumerate(idx_shell[0]): # nearest neighbors\n",
    "        k_nbr_idx = np.array(k_idx) + idx_vec\n",
    "        k_nbr = k_nbr_idx @ dk\n",
    "        # print(idx_vec, k_nbr)\n",
    "        # if the translated k-index contains the -1st or last_idx+1 then we crossed the BZ boundary\n",
    "        # and need to include phases\n",
    "        cross_bndry = True if np.any(np.in1d(k_nbr_idx, [-1, *nks])) else False\n",
    "        if cross_bndry:\n",
    "            mod_idx = np.mod(k_nbr_idx, nks)\n",
    "            diff = k_nbr_idx - mod_idx\n",
    "            G = np.divide(np.array(diff), np.array(nks))\n",
    "            print(\"idx_vec: \", idx_vec)\n",
    "            print(f\"k_idx: {k_idx}, k_nbr_idx: {k_nbr_idx}\")\n",
    "            print(\"k_nbr point: \", k_nbr)\n",
    "            print(\"mod\", mod_idx)\n",
    "            print(\"diff\", diff)\n",
    "            print(\"G\",  G)\n",
    "            print(orbs @ G.T)\n",
    "            print()"
   ]
  },
  {
   "cell_type": "code",
   "execution_count": 206,
   "metadata": {},
   "outputs": [
    {
     "name": "stdout",
     "output_type": "stream",
     "text": [
      " Orbital positions not specified. I will assume a single orbital at the origin.\n"
     ]
    },
    {
     "ename": "LinAlgError",
     "evalue": "0-dimensional array given. Array must be at least two-dimensional",
     "output_type": "error",
     "traceback": [
      "\u001b[0;31m---------------------------------------------------------------------------\u001b[0m",
      "\u001b[0;31mLinAlgError\u001b[0m                               Traceback (most recent call last)",
      "Cell \u001b[0;32mIn[206], line 13\u001b[0m\n\u001b[1;32m     11\u001b[0m n_occ \u001b[38;5;241m=\u001b[39m \u001b[38;5;28mint\u001b[39m(n_orb\u001b[38;5;241m/\u001b[39m\u001b[38;5;241m2\u001b[39m)\n\u001b[1;32m     12\u001b[0m lat_vecs \u001b[38;5;241m=\u001b[39m model\u001b[38;5;241m.\u001b[39mget_lat() \u001b[38;5;66;03m# lattice vectors\u001b[39;00m\n\u001b[0;32m---> 13\u001b[0m b_vec \u001b[38;5;241m=\u001b[39m \u001b[43mget_recip_lat_vecs\u001b[49m\u001b[43m(\u001b[49m\u001b[43mmodel\u001b[49m\u001b[43m)\u001b[49m\n",
      "Cell \u001b[0;32mIn[192], line 2\u001b[0m, in \u001b[0;36mget_recip_lat_vecs\u001b[0;34m(lat_vecs)\u001b[0m\n\u001b[1;32m      1\u001b[0m \u001b[38;5;28;01mdef\u001b[39;00m \u001b[38;5;21mget_recip_lat_vecs\u001b[39m(lat_vecs):\n\u001b[0;32m----> 2\u001b[0m     b \u001b[38;5;241m=\u001b[39m \u001b[38;5;241m2\u001b[39m \u001b[38;5;241m*\u001b[39m np\u001b[38;5;241m.\u001b[39mpi \u001b[38;5;241m*\u001b[39m \u001b[43mnp\u001b[49m\u001b[38;5;241;43m.\u001b[39;49m\u001b[43mlinalg\u001b[49m\u001b[38;5;241;43m.\u001b[39;49m\u001b[43minv\u001b[49m\u001b[43m(\u001b[49m\u001b[43mlat_vecs\u001b[49m\u001b[43m)\u001b[49m\u001b[38;5;241m.\u001b[39mT\n\u001b[1;32m      3\u001b[0m     \u001b[38;5;28;01mreturn\u001b[39;00m b\n",
      "File \u001b[0;32m~/miniforge3/envs/rutgers/lib/python3.10/site-packages/numpy/linalg/linalg.py:555\u001b[0m, in \u001b[0;36minv\u001b[0;34m(a)\u001b[0m\n\u001b[1;32m    494\u001b[0m \u001b[38;5;250m\u001b[39m\u001b[38;5;124;03m\"\"\"\u001b[39;00m\n\u001b[1;32m    495\u001b[0m \u001b[38;5;124;03mCompute the (multiplicative) inverse of a matrix.\u001b[39;00m\n\u001b[1;32m    496\u001b[0m \n\u001b[0;32m   (...)\u001b[0m\n\u001b[1;32m    552\u001b[0m \n\u001b[1;32m    553\u001b[0m \u001b[38;5;124;03m\"\"\"\u001b[39;00m\n\u001b[1;32m    554\u001b[0m a, wrap \u001b[38;5;241m=\u001b[39m _makearray(a)\n\u001b[0;32m--> 555\u001b[0m \u001b[43m_assert_stacked_2d\u001b[49m\u001b[43m(\u001b[49m\u001b[43ma\u001b[49m\u001b[43m)\u001b[49m\n\u001b[1;32m    556\u001b[0m _assert_stacked_square(a)\n\u001b[1;32m    557\u001b[0m t, result_t \u001b[38;5;241m=\u001b[39m _commonType(a)\n",
      "File \u001b[0;32m~/miniforge3/envs/rutgers/lib/python3.10/site-packages/numpy/linalg/linalg.py:206\u001b[0m, in \u001b[0;36m_assert_stacked_2d\u001b[0;34m(*arrays)\u001b[0m\n\u001b[1;32m    204\u001b[0m \u001b[38;5;28;01mfor\u001b[39;00m a \u001b[38;5;129;01min\u001b[39;00m arrays:\n\u001b[1;32m    205\u001b[0m     \u001b[38;5;28;01mif\u001b[39;00m a\u001b[38;5;241m.\u001b[39mndim \u001b[38;5;241m<\u001b[39m \u001b[38;5;241m2\u001b[39m:\n\u001b[0;32m--> 206\u001b[0m         \u001b[38;5;28;01mraise\u001b[39;00m LinAlgError(\u001b[38;5;124m'\u001b[39m\u001b[38;5;132;01m%d\u001b[39;00m\u001b[38;5;124m-dimensional array given. Array must be \u001b[39m\u001b[38;5;124m'\u001b[39m\n\u001b[1;32m    207\u001b[0m                 \u001b[38;5;124m'\u001b[39m\u001b[38;5;124mat least two-dimensional\u001b[39m\u001b[38;5;124m'\u001b[39m \u001b[38;5;241m%\u001b[39m a\u001b[38;5;241m.\u001b[39mndim)\n",
      "\u001b[0;31mLinAlgError\u001b[0m: 0-dimensional array given. Array must be at least two-dimensional"
     ]
    }
   ],
   "source": [
    "nks = 10, 10, 10\n",
    "# define lattice vectors\n",
    "lat=[[1.0, 0.0, 0], [0.0, 1.0, 0], [0, 0, 1.0]]\n",
    "# define coordinates of orbitals\n",
    "\n",
    "# make two dimensional tight-binding checkerboard model\n",
    "model = tb_model(3, 3, lat=lat)\n",
    "\n",
    "# orbs = model.get_orb()\n",
    "n_orb = model.get_num_orbitals()\n",
    "n_occ = int(n_orb/2)\n",
    "lat_vecs = model.get_lat() # lattice vectors\n",
    "b_vec = get_recip_lat_vecs(model)"
   ]
  },
  {
   "cell_type": "code",
   "execution_count": 52,
   "metadata": {},
   "outputs": [
    {
     "data": {
      "text/plain": [
       "array([1., 0., 0.])"
      ]
     },
     "execution_count": 52,
     "metadata": {},
     "output_type": "execute_result"
    }
   ],
   "source": [
    "lat_vecs[0]"
   ]
  },
  {
   "cell_type": "code",
   "execution_count": 53,
   "metadata": {},
   "outputs": [
    {
     "data": {
      "text/plain": [
       "array([6.28318531, 0.        , 0.        ])"
      ]
     },
     "execution_count": 53,
     "metadata": {},
     "output_type": "execute_result"
    }
   ],
   "source": [
    "b_vec[0]"
   ]
  },
  {
   "cell_type": "code",
   "execution_count": 54,
   "metadata": {},
   "outputs": [
    {
     "data": {
      "text/plain": [
       "0.0"
      ]
     },
     "execution_count": 54,
     "metadata": {},
     "output_type": "execute_result"
    }
   ],
   "source": [
    "b_vec[1] @ lat_vecs[1] - 2*np.pi"
   ]
  },
  {
   "cell_type": "code",
   "execution_count": 55,
   "metadata": {},
   "outputs": [
    {
     "data": {
      "text/plain": [
       "array([[0.62831853, 0.        , 0.        ],\n",
       "       [0.        , 0.62831853, 0.        ],\n",
       "       [0.        , 0.        , 0.62831853]])"
      ]
     },
     "execution_count": 55,
     "metadata": {},
     "output_type": "execute_result"
    }
   ],
   "source": [
    "dk = np.array([b_vec[i]/nk for i, nk in enumerate(nks)])\n",
    "dk"
   ]
  },
  {
   "cell_type": "code",
   "execution_count": 58,
   "metadata": {},
   "outputs": [
    {
     "name": "stdout",
     "output_type": "stream",
     "text": [
      "(10, 10, 10) [[6.28318531 0.         0.        ]\n",
      " [0.         6.28318531 0.        ]\n",
      " [0.         0.         6.28318531]]\n",
      "[[0.62831853 0.         0.        ]\n",
      " [0.         0.62831853 0.        ]\n",
      " [0.         0.         0.62831853]]\n",
      "[(0, 0), (0, 1), (0, 2), (1, 1), (1, 2), (2, 2)]\n"
     ]
    },
    {
     "data": {
      "text/plain": [
       "array([1.2665148])"
      ]
     },
     "execution_count": 58,
     "metadata": {},
     "output_type": "execute_result"
    }
   ],
   "source": [
    "w = get_weights(*nks, model=model)\n",
    "w/2"
   ]
  },
  {
   "cell_type": "code",
   "execution_count": 57,
   "metadata": {},
   "outputs": [
    {
     "data": {
      "text/plain": [
       "1.2665147955292224"
      ]
     },
     "execution_count": 57,
     "metadata": {},
     "output_type": "execute_result"
    }
   ],
   "source": [
    "# 3D k-mesh\n",
    "Z = 6 # number of nearest neighbors in reciprocal lattice\n",
    "G = 2*np.pi/lat_vecs[0][0] # reciprocal lattice vector\n",
    "b = G / nks[0]  # spacing between allowed kx\n",
    "w_b = 3/(Z*b**2) # finite difference weights for cubic lattice\n",
    "w_b"
   ]
  },
  {
   "cell_type": "code",
   "execution_count": null,
   "metadata": {},
   "outputs": [],
   "source": []
  }
 ],
 "metadata": {
  "kernelspec": {
   "display_name": "Python 3",
   "language": "python",
   "name": "python3"
  },
  "language_info": {
   "codemirror_mode": {
    "name": "ipython",
    "version": 3
   },
   "file_extension": ".py",
   "mimetype": "text/x-python",
   "name": "python",
   "nbconvert_exporter": "python",
   "pygments_lexer": "ipython3",
   "version": "3.10.14"
  }
 },
 "nbformat": 4,
 "nbformat_minor": 2
}
