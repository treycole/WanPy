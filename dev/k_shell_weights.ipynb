{
 "cells": [
  {
   "cell_type": "code",
   "execution_count": 17,
   "metadata": {},
   "outputs": [
    {
     "name": "stdout",
     "output_type": "stream",
     "text": [
      "/Users/treycole/Repos/WanPy/dev\n"
     ]
    }
   ],
   "source": [
    "import os\n",
    "import sys\n",
    "print(os.getcwd())\n",
    "sys.path.append(\"../WanPy\")\n",
    "\n",
    "import numpy as np\n",
    "from pythtb import *\n",
    "from wpythtb import Model, Bloch, K_mesh, Wannier\n",
    "from models import *\n",
    "import matplotlib.pyplot as plt\n",
    "from functools import partial\n",
    "from itertools import product\n",
    "import math\n",
    "from itertools import combinations_with_replacement as comb"
   ]
  },
  {
   "cell_type": "code",
   "execution_count": 74,
   "metadata": {},
   "outputs": [
    {
     "data": {
      "text/plain": [
       "array([[6.28318531, 0.        ],\n",
       "       [0.        , 6.28318531]])"
      ]
     },
     "execution_count": 74,
     "metadata": {},
     "output_type": "execute_result"
    }
   ],
   "source": [
    "# model = models.chessboard(0, 0, 0)#.make_supercell([[2,0], [0,2]])\n",
    "model = checkerboard(0, 0, 0)#.make_supercell([[2,0], [0,2]])\n",
    "lat_vecs = model.get_lat() # lattice vectors\n",
    "recip_vecs = model.get_recip_lat_vecs()\n",
    "orbs = model.get_orb()\n",
    "recip_vecs"
   ]
  },
  {
   "cell_type": "code",
   "execution_count": 75,
   "metadata": {},
   "outputs": [
    {
     "name": "stdout",
     "output_type": "stream",
     "text": [
      "[1.2665148]\n",
      "[array([[-0.62831853,  0.        ],\n",
      "       [ 0.        , -0.62831853],\n",
      "       [ 0.        ,  0.62831853],\n",
      "       [ 0.62831853,  0.        ]])]\n",
      "[array([[-1,  0],\n",
      "       [ 0, -1],\n",
      "       [ 0,  1],\n",
      "       [ 1,  0]])]\n"
     ]
    }
   ],
   "source": [
    "nks = 10, 10\n",
    "k_mesh = K_mesh(model, *nks)\n",
    "dks = np.array([recip_vecs[idx] / (nk) for idx, nk in enumerate(nks)])\n",
    "\n",
    "weights, k_shell, idx_shell = k_mesh.get_weights()\n",
    "print(weights)\n",
    "print(k_shell)\n",
    "print(idx_shell)"
   ]
  },
  {
   "cell_type": "code",
   "execution_count": 83,
   "metadata": {},
   "outputs": [
    {
     "data": {
      "text/plain": [
       "np.float64(1.2665147955292222)"
      ]
     },
     "execution_count": 83,
     "metadata": {},
     "output_type": "execute_result"
    }
   ],
   "source": [
    "# 3D k-mesh\n",
    "Z = len(idx_shell[0]) # number of nearest neighbors in reciprocal lattice\n",
    "b = dks[0,0]\n",
    "w_b = model._dim_k/(Z*b**2) # finite difference weights for cubic lattice\n",
    "w_b"
   ]
  }
 ],
 "metadata": {
  "kernelspec": {
   "display_name": "wanpy",
   "language": "python",
   "name": "python3"
  },
  "language_info": {
   "codemirror_mode": {
    "name": "ipython",
    "version": 3
   },
   "file_extension": ".py",
   "mimetype": "text/x-python",
   "name": "python",
   "nbconvert_exporter": "python",
   "pygments_lexer": "ipython3",
   "version": "3.10.16"
  }
 },
 "nbformat": 4,
 "nbformat_minor": 2
}
