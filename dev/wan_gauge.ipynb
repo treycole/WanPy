{
 "cells": [
  {
   "cell_type": "code",
   "execution_count": 9,
   "metadata": {},
   "outputs": [],
   "source": [
    "from scipy.linalg import polar\n",
    "import numpy as np\n",
    "\n",
    "S = np.random.rand(4, 4)\n",
    "\n",
    "A = np.random.rand(4, 4)\n",
    "A = A - A.T.conj()\n",
    "\n",
    "U, P = polar(S)"
   ]
  },
  {
   "cell_type": "code",
   "execution_count": 10,
   "metadata": {},
   "outputs": [],
   "source": [
    "eigvals, V = np.linalg.eigh(P)\n",
    "Lambda = np.diag(eigvals)"
   ]
  },
  {
   "cell_type": "code",
   "execution_count": null,
   "metadata": {},
   "outputs": [],
   "source": [
    "A_prime = V.conj().T @ A @ V"
   ]
  },
  {
   "cell_type": "code",
   "execution_count": 12,
   "metadata": {},
   "outputs": [],
   "source": [
    "X = np.zeros_like(S)\n",
    "\n",
    "for i in range(4):\n",
    "    for j in range(4):\n",
    "        X[i,j] = A_prime[i,j]/(Lambda[i,i] + Lambda[j,j])\n",
    "\n",
    "X = V @ X @ V.T.conj()"
   ]
  },
  {
   "cell_type": "code",
   "execution_count": 13,
   "metadata": {},
   "outputs": [
    {
     "data": {
      "text/plain": [
       "True"
      ]
     },
     "execution_count": 13,
     "metadata": {},
     "output_type": "execute_result"
    }
   ],
   "source": [
    "np.allclose(P @ X + X @ P, A)\n"
   ]
  },
  {
   "cell_type": "code",
   "execution_count": 14,
   "metadata": {},
   "outputs": [],
   "source": [
    "PX = np.zeros_like(S)\n",
    "\n",
    "for i in range(4):\n",
    "    for j in range(4):\n",
    "        PX[i,j] = (Lambda[i, i]/(Lambda[i,i] + Lambda[j,j])) * A_prime[i,j]\n",
    "\n",
    "PX = V @ PX @ V.T.conj()"
   ]
  },
  {
   "cell_type": "code",
   "execution_count": 15,
   "metadata": {},
   "outputs": [
    {
     "data": {
      "text/plain": [
       "True"
      ]
     },
     "execution_count": 15,
     "metadata": {},
     "output_type": "execute_result"
    }
   ],
   "source": [
    "np.allclose(PX, P @ X)\n"
   ]
  }
 ],
 "metadata": {
  "kernelspec": {
   "display_name": "wanpy",
   "language": "python",
   "name": "python3"
  },
  "language_info": {
   "codemirror_mode": {
    "name": "ipython",
    "version": 3
   },
   "file_extension": ".py",
   "mimetype": "text/x-python",
   "name": "python",
   "nbconvert_exporter": "python",
   "pygments_lexer": "ipython3",
   "version": "3.10.16"
  }
 },
 "nbformat": 4,
 "nbformat_minor": 2
}
