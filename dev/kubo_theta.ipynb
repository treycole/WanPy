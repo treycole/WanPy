{
 "cells": [
  {
   "cell_type": "code",
   "execution_count": 18,
   "metadata": {},
   "outputs": [
    {
     "name": "stdout",
     "output_type": "stream",
     "text": [
      "/Users/treycole/Repos/WanPy/dev\n",
      "The line_profiler extension is already loaded. To reload it, use:\n",
      "  %reload_ext line_profiler\n"
     ]
    }
   ],
   "source": [
    "import os\n",
    "import sys\n",
    "print(os.getcwd())\n",
    "sys.path.append(\"../WanPy\")\n",
    "\n",
    "import numpy as np\n",
    "from pythtb import *\n",
    "from wpythtb import *\n",
    "from models import *\n",
    "import matplotlib.pyplot as plt\n",
    "from functools import partial\n",
    "\n",
    "%load_ext line_profiler\n",
    "%timeit"
   ]
  },
  {
   "cell_type": "code",
   "execution_count": 19,
   "metadata": {},
   "outputs": [],
   "source": [
    "def get_periodic_H(model, H_flat, k_vals):\n",
    "    orb_vecs = model.get_orb_vecs()\n",
    "    orb_vec_diff = orb_vecs[:, None, :] - orb_vecs[None, :, :]\n",
    "    # orb_phase = np.exp(1j * 2 * np.pi * np.einsum('ijm, ...m->...ij', orb_vec_diff, k_vals))\n",
    "    orb_phase = np.exp(1j * 2 * np.pi * np.matmul(orb_vec_diff, k_vals.T)).transpose(2,0,1)\n",
    "\n",
    "    if model._nspin == 2:\n",
    "        orb_phase = orb_phase[:, :, np.newaxis, :, np.newaxis]\n",
    "        \n",
    "    H_per_flat = H_flat * orb_phase\n",
    "    return H_per_flat\n",
    "\n",
    "\n",
    "def vel_fd(H_k, mu, dk_mu, order_eps, mode='central'):\n",
    "    coeffs, stencil = finite_diff_coeffs(order_eps=order_eps, mode=mode)\n",
    "\n",
    "    fd_sum = np.zeros_like(H_k)\n",
    "\n",
    "    for s, c in zip(stencil, coeffs):\n",
    "        fd_sum += c * np.roll(H_k, shift=-s, axis=mu)\n",
    "\n",
    "    v = fd_sum / (dk_mu)\n",
    "    return v\n",
    "\n",
    "\n",
    "def berry_curvature(v_k, H_flat, occ_idxs=None):\n",
    "    evals, evecs = np.linalg.eigh(H_flat)  # (..., n_state), (..., n_state, n_state)\n",
    "    evecs = evecs.swapaxes(-1, -2)  # swap for consistent indexing\n",
    "    \n",
    "    n_eigs = evals.shape[-1]\n",
    "\n",
    "    # Identify occupied bands\n",
    "    if occ_idxs is None:\n",
    "        occ_idxs =  np.arange(n_eigs//2)\n",
    "    elif occ_idxs == 'all':\n",
    "        occ_idxs =  np.arange(n_eigs)\n",
    "    else:\n",
    "        occ_idxs = np.array(occ_idxs)\n",
    "\n",
    "    # Identify conduction bands\n",
    "    cond_idxs = np.setdiff1d(np.arange(n_eigs), occ_idxs)  # Identify conduction bands\n",
    "\n",
    "    # Compute energy denominators in vectorized way\n",
    "    delta_E = evals[..., np.newaxis, :] - evals[..., :, np.newaxis]\n",
    "    with np.errstate(divide=\"ignore\", invalid=\"ignore\"):  # Suppress warnings\n",
    "        inv_delta_E = np.where(delta_E != 0, 1 / delta_E, 0)\n",
    "\n",
    "    # Rotate velocity operators to eigenbasis\n",
    "    evecs_conj = evecs.conj()[np.newaxis, ...]\n",
    "    evecs_T =  np.swapaxes(evecs, -1, -2)[ np.newaxis, ...]\n",
    "    v_k_rot = np.matmul(evecs_conj, np.matmul(v_k, evecs_T)) # (dim_k, n_kpts, n_orb, n_orb)\n",
    "\n",
    "    # Extract relevant submatrices\n",
    "    v_occ_cond = v_k_rot[..., occ_idxs, :][..., :, cond_idxs]\n",
    "    v_cond_occ = v_k_rot[..., cond_idxs, :][..., :, occ_idxs]\n",
    "    delta_E_occ_cond = inv_delta_E[..., occ_idxs, :][..., :, cond_idxs]\n",
    "\n",
    "    v_occ_cond = v_occ_cond * delta_E_occ_cond\n",
    "    v_cond_occ = v_cond_occ * delta_E_occ_cond.swapaxes(-1,-2)\n",
    "\n",
    "    # Initialize Berry curvature\n",
    "    b_curv = 1j * ( \n",
    "        np.matmul(v_occ_cond[:, None], v_cond_occ[None, :]) \n",
    "        - np.matmul(v_occ_cond[None, :], v_cond_occ[:, None])\n",
    "    )\n",
    "\n",
    "    return b_curv"
   ]
  },
  {
   "cell_type": "code",
   "execution_count": 63,
   "metadata": {},
   "outputs": [
    {
     "name": "stdout",
     "output_type": "stream",
     "text": [
      "Total number of parameter points:  1064800\n",
      "Number of orbs: 2\n",
      "Number of spins: 2\n",
      "Number of states: 4\n",
      "Number of occupied bands: 2\n"
     ]
    }
   ],
   "source": [
    "t = 0  # spin-independent first-neighbor hop\n",
    "soc = 0  # spin-dependent second-neighbor hop\n",
    "m = 0 # magnetic field magnitude\n",
    "beta = 0\n",
    "fkm_model = fu_kane_mele(t, soc, m, beta)\n",
    "\n",
    "recip_lat_vecs = fkm_model.get_recip_lat_vecs()\n",
    "n_spin = fkm_model.n_spin\n",
    "n_orb = fkm_model.n_orb\n",
    "n_states = n_spin * n_orb\n",
    "n_occ = n_states//2\n",
    "\n",
    "nks = 22, 22, 22\n",
    "n_beta = 100\n",
    "k_mesh = K_mesh(fkm_model, *nks)\n",
    "k_flat = k_mesh.flat_mesh\n",
    "n_param = nks + (n_beta,)\n",
    "max_beta = 2*np.pi\n",
    "betas = np.linspace(0, max_beta, n_beta, endpoint=False) # change to endpoint=False for periodic\n",
    "\n",
    "fixed_params = {\"t\": 1, \"soc\": 1/4, \"m\": 1/2}\n",
    "lambda_vals = {\"beta\": betas}\n",
    "model_gen = partial(fu_kane_mele, **fixed_params)\n",
    "\n",
    "# bloch_states = Bloch(fkm_model, *n_param)\n",
    "# bloch_states.solve_model(model_fxn=model_gen, lambda_vals=lambda_vals)\n",
    "# bloch_states.set_pbc_lam()\n",
    "# u_wfs = bloch_states.get_states()[\"Cell periodic\"]\n",
    "\n",
    "print(\"Total number of parameter points: \", np.prod(n_param))\n",
    "# print(f\"Max beta = {max_beta} \\nBloch periodic? {bloch_states.pbc_lam}\")\n",
    "print(f\"Number of orbs: {n_spin}\")\n",
    "print(f\"Number of spins: {n_spin}\")\n",
    "print(\"Number of states:\", n_states)\n",
    "print(\"Number of occupied bands:\", n_occ)\n",
    "# print(\"Shape of wf array:\", u_wfs.shape)\n",
    "# print(bloch_states.get_wf_axes())"
   ]
  },
  {
   "cell_type": "code",
   "execution_count": 64,
   "metadata": {},
   "outputs": [
    {
     "data": {
      "text/plain": [
       "(<Figure size 640x480 with 1 Axes>, <Axes: ylabel='Energy $E(\\\\mathbf{{k}})$'>)"
      ]
     },
     "execution_count": 64,
     "metadata": {},
     "output_type": "execute_result"
    },
    {
     "data": {
      "image/png": "[encoded data removed]",
      "text/plain": [
       "<Figure size 640x480 with 1 Axes>"
      ]
     },
     "metadata": {},
     "output_type": "display_data"
    }
   ],
   "source": [
    "k_path = [\n",
    "    [0.0,   0.0,   0.0],    # Γ\n",
    "    [0.5,   0.0,   0.5],    # X\n",
    "    [0.5,   0.25,  0.75],   # W\n",
    "    [0.5,   0.5,   0.5],    # L\n",
    "    [0.0,   0.0,   0.0],    # Γ\n",
    "    [0.375, 0.375, 0.75],   # K\n",
    "    [0.5,   0.0,   0.5]     # X\n",
    "]\n",
    "k_label = (r'$\\Gamma$', r'$X$', r'$W$', r'$L$', r'$\\Gamma$', r'$K$', r'$X$')\n",
    "\n",
    "model_gen(beta=betas[0]).plot_bands(k_path, k_label=k_label)"
   ]
  },
  {
   "cell_type": "code",
   "execution_count": 65,
   "metadata": {},
   "outputs": [
    {
     "name": "stdout",
     "output_type": "stream",
     "text": [
      "0\n",
      "1\n",
      "2\n",
      "3\n",
      "4\n",
      "5\n",
      "6\n",
      "7\n",
      "8\n",
      "9\n",
      "10\n",
      "11\n",
      "12\n",
      "13\n",
      "14\n",
      "15\n",
      "16\n",
      "17\n",
      "18\n",
      "19\n",
      "20\n",
      "21\n",
      "22\n",
      "23\n",
      "24\n",
      "25\n",
      "26\n",
      "27\n",
      "28\n",
      "29\n",
      "30\n",
      "31\n",
      "32\n",
      "33\n",
      "34\n",
      "35\n",
      "36\n",
      "37\n",
      "38\n",
      "39\n",
      "40\n",
      "41\n",
      "42\n",
      "43\n",
      "44\n",
      "45\n",
      "46\n",
      "47\n",
      "48\n",
      "49\n",
      "50\n",
      "51\n",
      "52\n",
      "53\n",
      "54\n",
      "55\n",
      "56\n",
      "57\n",
      "58\n",
      "59\n",
      "60\n",
      "61\n",
      "62\n",
      "63\n",
      "64\n",
      "65\n",
      "66\n",
      "67\n",
      "68\n",
      "69\n",
      "70\n",
      "71\n",
      "72\n",
      "73\n",
      "74\n",
      "75\n",
      "76\n",
      "77\n",
      "78\n",
      "79\n",
      "80\n",
      "81\n",
      "82\n",
      "83\n",
      "84\n",
      "85\n",
      "86\n",
      "87\n",
      "88\n",
      "89\n",
      "90\n",
      "91\n",
      "92\n",
      "93\n",
      "94\n",
      "95\n",
      "96\n",
      "97\n",
      "98\n",
      "99\n",
      "(10648, 100, 4, 4)\n",
      "(3, 10648, 100, 4, 4)\n"
     ]
    }
   ],
   "source": [
    "v_k = np.zeros((fkm_model.dim_k, k_flat.shape[0], n_beta, n_states, n_states), dtype=complex)\n",
    "H_kbeta = np.zeros((k_flat.shape[0], n_beta, n_states, n_states), dtype=complex)\n",
    "\n",
    "for idx, beta in enumerate(betas):\n",
    "    print(idx)\n",
    "    fkm_model_fxd = model_gen(beta=beta)\n",
    "    H = fkm_model_fxd.get_ham(k_flat)\n",
    "    v = fkm_model_fxd.gen_velocity(k_flat)\n",
    "\n",
    "    # flatten spin\n",
    "    new_shape = (H.shape[0],) + (n_spin*n_orb, n_spin*n_orb)\n",
    "    H = H.reshape(*new_shape) \n",
    "    new_shape = (v.shape[:2]) + (n_spin*n_orb, n_spin*n_orb)\n",
    "    v = v.reshape(*new_shape)\n",
    "    \n",
    "    H_kbeta[:, idx, ...] = H\n",
    "    v_k[:, :, idx, ...] = v\n",
    "\n",
    "print(H_kbeta.shape)\n",
    "print(v_k.shape)"
   ]
  },
  {
   "cell_type": "code",
   "execution_count": 66,
   "metadata": {},
   "outputs": [],
   "source": [
    "d_beta = max_beta/n_beta  # Step size for beta integration\n",
    "v_beta = vel_fd(H_kbeta, 1, d_beta, 15)\n",
    "v_beta = v_beta[np.newaxis, ...]"
   ]
  },
  {
   "cell_type": "code",
   "execution_count": 67,
   "metadata": {},
   "outputs": [],
   "source": [
    "v = np.concatenate((v_k, v_beta), axis=0)\n",
    "b_curv = berry_curvature(v, H_kbeta)"
   ]
  },
  {
   "cell_type": "code",
   "execution_count": 68,
   "metadata": {},
   "outputs": [
    {
     "name": "stdout",
     "output_type": "stream",
     "text": [
      "dk vectors: \n",
      " [[-0.14279967  0.14279967  0.14279967  0.        ]\n",
      " [ 0.14279967 -0.14279967  0.14279967  0.        ]\n",
      " [ 0.14279967  0.14279967 -0.14279967  0.        ]\n",
      " [ 0.          0.          0.          0.06283185]]\n",
      "det(dk) = 0.0007318489183621521\n"
     ]
    }
   ],
   "source": [
    "dim_k = 3  # Number of k-space dimensions\n",
    "dim_lam = 1  # Number of adiabatic dimensions\n",
    "dim_total = 4\n",
    "\n",
    "# Construct delta_k with 4D embedding (extra zeros for adiabatic params)\n",
    "delta_k = np.zeros((dim_k, dim_total))  # (3, dim_total)\n",
    "delta_k[:, :dim_k] = recip_lat_vecs / np.array(nks)[:, None]\n",
    "# Construct delta_lambda (embedding into 4D with zeros in k-space parts)\n",
    "delta_lam = np.zeros((dim_lam, dim_total))  # (dim_lam, dim_total)\n",
    "np.fill_diagonal(delta_lam[:, dim_k:], max_beta / np.array(n_beta))\n",
    "\n",
    "dk = np.vstack([delta_k, delta_lam])  # (dim_total, dim_total)\n",
    "d4k = np.linalg.det(dk)\n",
    "\n",
    "print(\"dk vectors: \\n\",dk)\n",
    "print(\"det(dk) =\", d4k)"
   ]
  },
  {
   "cell_type": "code",
   "execution_count": 69,
   "metadata": {},
   "outputs": [
    {
     "name": "stdout",
     "output_type": "stream",
     "text": [
      "0.24733627694102972 0.24733627694102972 0.24733627694102972 0.06283185307179587\n",
      "0.7698003589195012\n",
      "0.015130854591608948 0.0009506996325506813\n",
      "0.011647737295379351 0.0007318489183621523\n",
      "0.011647737295379343 0.0007318489183621521\n",
      "0.01164773729537934\n"
     ]
    }
   ],
   "source": [
    "recip_basis = recip_lat_vecs/ np.linalg.norm(recip_lat_vecs, axis=1, keepdims=True)\n",
    "g = recip_basis @ recip_basis.T\n",
    "sqrt_mtrc = np.sqrt(np.linalg.det(g))\n",
    "\n",
    "delta_k = np.array([recip_lat_vecs[k_idx]/(nk) for k_idx, nk in enumerate(nks)]) \n",
    "dk1 = np.linalg.norm(recip_lat_vecs[0]/(nks[0]))\n",
    "dk2 = np.linalg.norm(recip_lat_vecs[1]/(nks[1]))\n",
    "dk3 = np.linalg.norm(recip_lat_vecs[2]/(nks[2]))\n",
    "d_beta = max_beta/n_beta  # Step size for beta integration\n",
    "\n",
    "d3k = np.linalg.det(delta_k)\n",
    "d4k, d2ks = compute_d4k_and_d2k(dk) \n",
    "d3k_alt = np.prod([dk1, dk2, dk3])\n",
    "d4k_alt = np.prod([dk1, dk2, dk3, d_beta])\n",
    "\n",
    "print(dk1, dk2, dk3, d_beta)\n",
    "print(sqrt_mtrc)\n",
    "print(d3k_alt, d4k_alt)\n",
    "print(d3k_alt*sqrt_mtrc, d4k_alt*sqrt_mtrc)\n",
    "print(d3k, d4k)\n",
    "print(fkm_model.get_recip_vol()/np.prod(nks))"
   ]
  },
  {
   "cell_type": "code",
   "execution_count": 70,
   "metadata": {},
   "outputs": [],
   "source": [
    "epsilon = levi_civita(4, 4)\n",
    "chern2_density = np.einsum(\"ijkl, ij...mn, kl...nm->...\", epsilon, b_curv, b_curv)"
   ]
  },
  {
   "cell_type": "code",
   "execution_count": 78,
   "metadata": {},
   "outputs": [
    {
     "name": "stdout",
     "output_type": "stream",
     "text": [
      "C2 = 1.0172632278740612\n"
     ]
    }
   ],
   "source": [
    "chern2 = np.sum(chern2_density) * d4k / (32 * np.pi**2)\n",
    "print(\"C2 =\", chern2.real)"
   ]
  },
  {
   "cell_type": "code",
   "execution_count": 79,
   "metadata": {},
   "outputs": [],
   "source": [
    "thetas = np.zeros(betas.shape[0], dtype=complex)\n",
    "\n",
    "for beta_idx, beta in enumerate(betas):\n",
    "    sliced_dtheta = chern2_density[..., :beta_idx+1]\n",
    "\n",
    "    theta = np.sum(sliced_dtheta) * d4k #/sqrt_mtrc\n",
    "    \n",
    "    thetas[beta_idx] = theta / (16 * np.pi)"
   ]
  },
  {
   "cell_type": "code",
   "execution_count": 80,
   "metadata": {},
   "outputs": [],
   "source": [
    "c2 = np.sum(chern2_density, axis=0) * d3k\n",
    "thetas = np.cumsum(c2) * d_beta / (16 * np.pi)"
   ]
  },
  {
   "cell_type": "code",
   "execution_count": 81,
   "metadata": {},
   "outputs": [
    {
     "data": {
      "text/plain": [
       "Text(0.5, 1.0, 'Kubo formula\\nDerivative along $k$, Finite Difference along $\\\\beta$')"
      ]
     },
     "execution_count": 81,
     "metadata": {},
     "output_type": "execute_result"
    },
    {
     "data": {
      "image/png": "[encoded data removed]",
      "text/plain": [
       "<Figure size 640x480 with 1 Axes>"
      ]
     },
     "metadata": {},
     "output_type": "display_data"
    }
   ],
   "source": [
    "#### Plotting theta(beta)\n",
    "\n",
    "fig, ax = plt.subplots()\n",
    "\n",
    "ax.set_xlabel(r\"$\\beta$\", size=15)\n",
    "ax.set_ylabel(r\"$\\theta$\", size=15)\n",
    "\n",
    "tick_positions = np.arange(0, 2*np.pi+np.pi/4, np.pi/4)\n",
    "tick_labels = [\n",
    "    r\"$0$\", r\"$\\frac{\\pi}{4}$\", r\"$\\frac{\\pi}{2}$\", r\"$\\frac{3\\pi}{4}$\", r\"$\\pi$\", \n",
    "    r\"$\\frac{5\\pi}{4}$\", r\"$\\frac{6\\pi}{4}$\", r\"$\\frac{7\\pi}{4}$\", r\"$2\\pi$\"]\n",
    "\n",
    "# Set the ticks and labels for both axes\n",
    "ax.set_xticks(tick_positions)\n",
    "ax.set_xticklabels(tick_labels)\n",
    "ax.set_yticks(tick_positions)\n",
    "ax.set_yticklabels(tick_labels)\n",
    "\n",
    "# ax.set_ylim(0, np.pi+.02)\n",
    "# ax.set_xlim(0, np.pi+0.02)\n",
    "\n",
    "ax.plot(betas, thetas.real, lw=1, zorder=2, c='k')  \n",
    "ax.scatter(betas, thetas.real, s=10, zorder=2, c='b')\n",
    "ax.grid()\n",
    "ax.set_title(\"Kubo formula\\n\"+ r\"Derivative along $k$, Finite Difference along $\\beta$\")"
   ]
  },
  {
   "cell_type": "code",
   "execution_count": null,
   "metadata": {},
   "outputs": [],
   "source": []
  }
 ],
 "metadata": {
  "kernelspec": {
   "display_name": "wanpy",
   "language": "python",
   "name": "python3"
  },
  "language_info": {
   "codemirror_mode": {
    "name": "ipython",
    "version": 3
   },
   "file_extension": ".py",
   "mimetype": "text/x-python",
   "name": "python",
   "nbconvert_exporter": "python",
   "pygments_lexer": "ipython3",
   "version": "3.10.16"
  }
 },
 "nbformat": 4,
 "nbformat_minor": 2
}
