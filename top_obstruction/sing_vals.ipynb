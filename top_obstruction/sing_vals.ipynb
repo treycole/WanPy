{
 "cells": [
  {
   "cell_type": "code",
   "execution_count": 1,
   "metadata": {},
   "outputs": [
    {
     "name": "stdout",
     "output_type": "stream",
     "text": [
      "/Users/treycole/Codes/WanPy/top_obstruction\n"
     ]
    }
   ],
   "source": [
    "import os\n",
    "import sys\n",
    "print(os.getcwd())\n",
    "sys.path.append(\"../WanPy\")\n",
    "\n",
    "from WanPy import *\n",
    "from pythtb import *\n",
    "from pythTB_wan import *\n",
    "import models\n",
    "import plotting as plot\n",
    "\n",
    "import numpy as np\n",
    "import matplotlib.pyplot as plt\n",
    "from matplotlib.colors import LogNorm"
   ]
  },
  {
   "cell_type": "code",
   "execution_count": 17,
   "metadata": {},
   "outputs": [],
   "source": [
    "# Haldane tight-binding parameters\n",
    "delta = 1\n",
    "t = 1\n",
    "t2 = -0.3 #-0.1\n",
    "\n",
    "n_super_cell = 2\n",
    "model = models.Haldane(delta, t, t2).make_supercell([[n_super_cell, 0], [0, n_super_cell]])\n",
    "model_name = \"haldane\"\n",
    "param_name = f\"Delta={delta}_t={t}_t2={t2}\"\n",
    "\n",
    "# # Checkerboard tight-binding parameters\n",
    "# delta = 1\n",
    "# t0 = 0.4\n",
    "# tprime = 0.5 #-0.1\n",
    "\n",
    "# n_super_cell = 2\n",
    "# model = models.chessboard(t0, tprime, delta).make_supercell([[n_super_cell, 0], [0, n_super_cell]])\n",
    "# model_name = \"checkerboard\"\n",
    "# param_name = f\"Delta={delta}_t0={t0}_tprime={tprime}\"\n",
    "\n",
    "# model.display()"
   ]
  },
  {
   "cell_type": "code",
   "execution_count": 18,
   "metadata": {},
   "outputs": [
    {
     "name": "stdout",
     "output_type": "stream",
     "text": [
      "Low energy sites: [0 2 4 6]\n",
      "High energy sites: [1 3 5 7]\n",
      "Chern # occupied:  1.0\n",
      "C=1.0_Delta=1_t=1_t2=-0.3\n"
     ]
    }
   ],
   "source": [
    "lat_vecs = model.get_lat()\n",
    "orb_vecs = model.get_orb()\n",
    "n_orb = n_orb = model.get_num_orbitals()\n",
    "n_occ = int(n_orb/2)\n",
    "\n",
    "low_E_sites = np.arange(0, n_orb, 2)\n",
    "high_E_sites = np.arange(1, n_orb, 2)\n",
    "\n",
    "u_wfs_full = wf_array(model, [20, 20])\n",
    "u_wfs_full.solve_on_grid([0, 0])\n",
    "chern = u_wfs_full.berry_flux([i for i in range(n_occ)])/(2*np.pi)\n",
    "\n",
    "model_str = f'C={chern:.1f}_Delta={delta}_t={t}_t2={t2}'\n",
    "\n",
    "print(f\"Low energy sites: {low_E_sites}\")\n",
    "print(f\"High energy sites: {high_E_sites}\")\n",
    "print(f\"Chern # occupied: {chern: .1f}\")\n",
    "print(model_str)"
   ]
  },
  {
   "cell_type": "code",
   "execution_count": 19,
   "metadata": {},
   "outputs": [
    {
     "name": "stdout",
     "output_type": "stream",
     "text": [
      "# of Wannier functions: 4\n",
      "# of occupied bands: 4\n",
      "Wannier fraction: 1.0\n",
      "data/haldane_sing_vals_C=1.0_Delta=1_t=1_t2=-0.3_tfx=[0 2 4 6]\n"
     ]
    }
   ],
   "source": [
    "random = False\n",
    "low_E = True\n",
    "omit = False\n",
    "\n",
    "if random:\n",
    "    omit_num = 0\n",
    "    n_tfs = n_occ - omit_num\n",
    "    tf_list = [\"random\", n_tfs]\n",
    "elif omit:\n",
    "    omit_sites = 6\n",
    "    tf_list = list(np.setdiff1d(low_E_sites, [omit_sites])) # delta on lower energy sites omitting the last site\n",
    "    # np.random.choice(low_E_sites, n_tfs, replace=False)\n",
    "    n_tfs = len(tf_list)\n",
    "elif low_E:\n",
    "    tf_list = list(low_E_sites)\n",
    "    n_tfs = len(tf_list)\n",
    "\n",
    "Wan_frac = n_tfs/n_occ\n",
    "\n",
    "if random:\n",
    "    sv_sfx = model_str + f'_tfxs={tf_list}'\n",
    "else:\n",
    "    sv_sfx = model_str + f'_tfx={np.array(tf_list, dtype=int)}'\n",
    "\n",
    "sv_prefix = f'{model_name}_sing_vals'\n",
    "sv_dir = 'data'\n",
    "file_name = f\"{sv_dir}/{sv_prefix}_{sv_sfx}\"\n",
    "\n",
    "print(f\"# of Wannier functions: {n_tfs}\")\n",
    "print(f\"# of occupied bands: {n_occ}\")\n",
    "print(f\"Wannier fraction: {Wan_frac}\")\n",
    "print(file_name)"
   ]
  },
  {
   "cell_type": "code",
   "execution_count": 20,
   "metadata": {},
   "outputs": [
    {
     "data": {
      "text/plain": [
       "array([[1.+0.j, 0.+0.j, 0.+0.j, 0.+0.j, 0.+0.j, 0.+0.j, 0.+0.j, 0.+0.j],\n",
       "       [0.+0.j, 0.+0.j, 1.+0.j, 0.+0.j, 0.+0.j, 0.+0.j, 0.+0.j, 0.+0.j],\n",
       "       [0.+0.j, 0.+0.j, 0.+0.j, 0.+0.j, 1.+0.j, 0.+0.j, 0.+0.j, 0.+0.j],\n",
       "       [0.+0.j, 0.+0.j, 0.+0.j, 0.+0.j, 0.+0.j, 0.+0.j, 1.+0.j, 0.+0.j]])"
      ]
     },
     "execution_count": 20,
     "metadata": {},
     "output_type": "execute_result"
    }
   ],
   "source": [
    "WF = Wannier(model, [20, 20])\n",
    "twfs = WF.get_trial_wfs(tf_list)\n",
    "state_idx = list(range(n_occ))\n",
    "twfs"
   ]
  },
  {
   "cell_type": "code",
   "execution_count": 21,
   "metadata": {},
   "outputs": [],
   "source": [
    "def overlap_mat(psi_wfs, tfs, state_idx):\n",
    "    \"\"\"\n",
    "    Returns A_{k, n, j} = <psi_{n,k} | t_{j}> where psi are Bloch states and t are\n",
    "    the trial wavefunctions.\n",
    "\n",
    "    Args:\n",
    "        psi_wfs (np.array): Bloch eigenstates\n",
    "        tfs (np.array): trial wfs\n",
    "        state_idx (list): band indices to form overlap matrix with\n",
    "\n",
    "    Returns:\n",
    "        A (np.array): overlap matrix\n",
    "    \"\"\"\n",
    "    psi_wfs = np.take(psi_wfs, state_idx, axis=-2)\n",
    "    A = np.einsum(\"...ij, kj -> ...ik\", psi_wfs.conj(), tfs)\n",
    "    return A"
   ]
  },
  {
   "cell_type": "code",
   "execution_count": 22,
   "metadata": {},
   "outputs": [],
   "source": [
    "# Haldane\n",
    "k_path = [[0, 0], [2/3, 1/3], [.5, .5], [1/3, 2/3], [0, 0], [.5, .5]]\n",
    "label = (r'$\\Gamma $',r'$K$', r'$M$', r'$K^\\prime$', r'$\\Gamma $', r'$M$')\n",
    "nk = 201\n",
    "(k_vec, k_dist, k_node) = model.k_path(k_path, nk, report=False)\n",
    "\n",
    "eigvals, eigvecs = model.solve_all(k_vec, eig_vectors=True)\n",
    "eigvecs = np.transpose(eigvecs, axes=(1,0,2))\n",
    "\n",
    "A = overlap_mat(eigvecs, twfs, state_idx)\n",
    "V, S, Wh = np.linalg.svd(A, full_matrices=False)\n",
    "\n",
    "np.save(file_name, S)"
   ]
  },
  {
   "cell_type": "code",
   "execution_count": 23,
   "metadata": {},
   "outputs": [],
   "source": [
    "nks = 20, 20\n",
    "\n",
    "u_wfs_full = wf_array(model, [nks[0], nks[1]])\n",
    "u_wfs_full.solve_on_grid([0, 0])\n",
    "u_wfs_full = u_wfs_full._wfs\n",
    "\n",
    "A = overlap_mat(u_wfs_full, twfs, state_idx)\n",
    "V, S, Wh = np.linalg.svd(A, full_matrices=False)\n",
    "np.save(file_name+\"_full_mesh\", S)"
   ]
  },
  {
   "cell_type": "code",
   "execution_count": null,
   "metadata": {},
   "outputs": [],
   "source": []
  }
 ],
 "metadata": {
  "kernelspec": {
   "display_name": "rutgers",
   "language": "python",
   "name": "python3"
  },
  "language_info": {
   "codemirror_mode": {
    "name": "ipython",
    "version": 3
   },
   "file_extension": ".py",
   "mimetype": "text/x-python",
   "name": "python",
   "nbconvert_exporter": "python",
   "pygments_lexer": "ipython3",
   "version": "3.10.14"
  }
 },
 "nbformat": 4,
 "nbformat_minor": 2
}
