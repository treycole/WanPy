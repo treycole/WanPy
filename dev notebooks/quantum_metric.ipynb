{
 "cells": [
  {
   "cell_type": "code",
   "execution_count": 1,
   "metadata": {},
   "outputs": [
    {
     "name": "stdout",
     "output_type": "stream",
     "text": [
      "/Users/treycole/Codes/WanPy/dev notebooks\n"
     ]
    }
   ],
   "source": [
    "import os\n",
    "import sys\n",
    "print(os.getcwd())\n",
    "sys.path.append(\"../WanPy\")\n",
    "\n",
    "import numpy as np\n",
    "from pythtb import *\n",
    "from pythTB_wan import Bloch, K_mesh, Wannier, Lattice\n",
    "import models"
   ]
  },
  {
   "cell_type": "code",
   "execution_count": 48,
   "metadata": {},
   "outputs": [],
   "source": [
    "# tight-binding parameters\n",
    "delta = 1\n",
    "\n",
    "# # checkerboard\n",
    "# t0 = 0.4\n",
    "# tprime = 0.5\n",
    "\n",
    "# Haldane\n",
    "t = 1\n",
    "t2 = -0.4\n",
    "\n",
    "n_super_cell = 1\n",
    "model = models.Haldane(delta, t, t2).make_supercell([[n_super_cell, 0], [0, n_super_cell]])"
   ]
  },
  {
   "cell_type": "code",
   "execution_count": 49,
   "metadata": {},
   "outputs": [
    {
     "name": "stdout",
     "output_type": "stream",
     "text": [
      "[[0.33333333 0.33333333]\n",
      " [0.66666667 0.66666667]]\n",
      "[[1.        0.       ]\n",
      " [0.5       0.8660254]]\n"
     ]
    }
   ],
   "source": [
    "orbs = model.get_orb()\n",
    "lats = model.get_lat()\n",
    "\n",
    "print(orbs)\n",
    "print(lats)"
   ]
  },
  {
   "cell_type": "code",
   "execution_count": 50,
   "metadata": {},
   "outputs": [
    {
     "data": {
      "text/plain": [
       "array([0.5       , 0.28867513])"
      ]
     },
     "execution_count": 50,
     "metadata": {},
     "output_type": "execute_result"
    }
   ],
   "source": [
    "orbs[0][0] * lats[0] + orbs[0][1] * lats[1]"
   ]
  },
  {
   "cell_type": "code",
   "execution_count": 51,
   "metadata": {},
   "outputs": [
    {
     "data": {
      "text/plain": [
       "array([[0.5       , 0.28867513],\n",
       "       [1.        , 0.57735027]])"
      ]
     },
     "execution_count": 51,
     "metadata": {},
     "output_type": "execute_result"
    }
   ],
   "source": [
    "pos = orbs @ lats\n",
    "pos"
   ]
  },
  {
   "cell_type": "code",
   "execution_count": 85,
   "metadata": {},
   "outputs": [],
   "source": [
    "# def gen_velocity(model, k_pt):\n",
    "#     \"\"\"Generate Hamiltonian for a certain k-point,\n",
    "#     K-point is given in reduced coordinates!\"\"\"\n",
    "\n",
    "#     kpnt = np.array(k_pt)\n",
    "\n",
    "#     if k_pt is not None:\n",
    "#         # if kpnt is just a number then convert it to an array\n",
    "#         if len(kpnt.shape)==0:\n",
    "#             kpnt = np.array([kpnt])\n",
    "#         # check that k-vector is of corect size\n",
    "#         if kpnt.shape != (model._dim_k,):\n",
    "#             raise Exception(\"\\n\\nk-vector of wrong shape!\")\n",
    "#     else:\n",
    "#         if model._dim_k!=0:\n",
    "#             raise Exception(\"\\n\\nHave to provide a k-vector!\")\n",
    "        \n",
    "#     # zero the Hamiltonian matrix\n",
    "#     if model._nspin == 1:\n",
    "#         vel = np.zeros((model._dim_k, model._norb, model._norb), dtype=complex)\n",
    "#     elif model._nspin == 2:\n",
    "#         vel = np.zeros((model._dim_k, model._norb, 2, model._norb, 2), dtype=complex)\n",
    "\n",
    "#     # modify diagonal elements\n",
    "#     # for i in range(model._norb):\n",
    "#     #     if model._nspin==1:\n",
    "#     #         vel[i, i] = model._site_energies[i]\n",
    "#     #     elif model._nspin==2:\n",
    "#     #         vel[i, :, i, :] = model._site_energies[i]\n",
    "\n",
    "#     # go over all hoppings\n",
    "#     for hopping in model._hoppings:\n",
    "#         # get all data for the hopping parameter\n",
    "#         if model._nspin == 1:\n",
    "#             amp = complex(hopping[0])\n",
    "#         elif model._nspin == 2:\n",
    "#             amp = np.array(hopping[0], dtype=complex)\n",
    "#         i = hopping[1]\n",
    "#         j = hopping[2]\n",
    "#         # in 0-dim case there is no phase factor\n",
    "#         if model._dim_k > 0:\n",
    "#             ind_R = np.array(hopping[3], dtype=float)\n",
    "#             # vector from one site to another\n",
    "#             rv = -model._orb[i, :] + model._orb[j, :] + ind_R\n",
    "#             R = rv @ model.get_lat()\n",
    "#             # Take only components of vector which are periodic\n",
    "#             rv = rv[model._per]\n",
    "#             # Calculate the hopping, see details in info/tb/tb.pdf\n",
    "#             phase = np.exp((2.0j)*np.pi*np.dot(kpnt,rv))\n",
    "#             amp = amp*phase\n",
    "#         # add this hopping into a matrix and also its conjugate\n",
    "#         if model._nspin == 1:\n",
    "#             vel[:, i, j] += amp * -R\n",
    "#             vel[:, j, i] += amp.conjugate() * R\n",
    "#         elif model._nspin==2:\n",
    "#             vel[:, i, :, j, :] += amp * -R\n",
    "#             vel[:, j, :, i, :] += amp.T.conjugate() * R\n",
    "#     return -1j*vel\n",
    "\n",
    "def gen_velocity(model, k_pt):\n",
    "    \"\"\"Generate Hamiltonian for a certain k-point,\n",
    "    K-point is given in reduced coordinates!\"\"\"\n",
    "\n",
    "    kpnt = np.array(k_pt)\n",
    "\n",
    "    if k_pt is not None:\n",
    "        # if kpnt is just a number then convert it to an array\n",
    "        if len(kpnt.shape)==0:\n",
    "            kpnt = np.array([kpnt])\n",
    "        # check that k-vector is of corect size\n",
    "        if kpnt.shape != (model._dim_k,):\n",
    "            raise Exception(\"\\n\\nk-vector of wrong shape!\")\n",
    "    else:\n",
    "        if model._dim_k != 0:\n",
    "            raise Exception(\"\\n\\nHave to provide a k-vector!\")\n",
    "        \n",
    "    # zero the Hamiltonian matrix\n",
    "    if model._nspin == 1:\n",
    "        vel = np.zeros((model._dim_k, model._norb, model._norb), dtype=complex)\n",
    "    elif model._nspin == 2:\n",
    "        vel = np.zeros((model._dim_k, model._norb, 2, model._norb, 2), dtype=complex)\n",
    "\n",
    "    # modify diagonal elements\n",
    "    # for i in range(model._norb):\n",
    "    #     if model._nspin==1:\n",
    "    #         vel[i, i] = model._site_energies[i]\n",
    "    #     elif model._nspin==2:\n",
    "    #         vel[i, :, i, :] = model._site_energies[i]\n",
    "\n",
    "    # go over all hoppings\n",
    "    for hopping in model._hoppings:\n",
    "        # get all data for the hopping parameter\n",
    "\n",
    "        if model._nspin == 1:\n",
    "            amp = complex(hopping[0])\n",
    "        elif model._nspin == 2:\n",
    "            amp = np.array(hopping[0], dtype=complex)\n",
    "\n",
    "        i = hopping[1]\n",
    "        j = hopping[2]\n",
    "\n",
    "        # in 0-dim case there is no phase factor\n",
    "        if model._dim_k > 0:\n",
    "            ind_R = np.array(hopping[3], dtype=float)\n",
    "\n",
    "            # vector from one site to another\n",
    "            delta_r = ind_R + model._orb[i, :] - model._orb[j, :]\n",
    "            delta_r_Cart = delta_r @ model.get_lat()\n",
    "            \n",
    "            # Take only components of vector which are periodic\n",
    "            delta_r = delta_r[model._per]\n",
    "\n",
    "            # Calculate the hopping, see details in info/tb/tb.pdf\n",
    "            phase = np.exp(-1j * 2 * np.pi * np.dot(kpnt, delta_r))\n",
    "            amp *= phase\n",
    "\n",
    "        # add this hopping into a matrix and also its conjugate\n",
    "        if model._nspin == 1:\n",
    "            vel[:, i, j] += -1j * amp * delta_r_Cart\n",
    "            vel[:, j, i] += -1j * amp.conjugate() * -delta_r_Cart\n",
    "\n",
    "        elif model._nspin == 2:\n",
    "            vel[:, i, :, j, :] += -1j * amp * delta_r\n",
    "            vel[:, j, :, i, :] += -1j * amp.T.conjugate() * -delta_r_Cart\n",
    "\n",
    "    return vel\n",
    "\n",
    "\n",
    "# def quantum_geom_tens(model, k_vec):\n",
    "#     n_orb = model.get_num_orbitals()\n",
    "#     dim_k = k_vec.shape[-1]\n",
    "    \n",
    "#     evals, evecs = model.solve_all(k_vec, eig_vectors=True)\n",
    "#     evecs = np.transpose(evecs, axes=(1, 0, 2)) # [k, n, orb]\n",
    "#     evals = np.transpose(evals, axes=(1, 0)) # [k, n]\n",
    "#     n_eigs = evecs.shape[1]\n",
    "\n",
    "#     QGT = np.zeros((k_vec.shape[0], n_eigs, dim_k, dim_k), dtype=complex)\n",
    "#     v_k = np.zeros((k_vec.shape[0], dim_k, n_orb, n_orb), dtype=complex)\n",
    "\n",
    "#     for idx, k_pt in enumerate(k_vec):\n",
    "#         v_k[idx] = gen_velocity(model, k_pt)\n",
    "#         for n in range(n_eigs):\n",
    "#             u_nk = evecs[idx, n, :]\n",
    "#             for mu in range(dim_k):\n",
    "#                 for nu in range(dim_k):\n",
    "#                     for m in range(n_eigs):\n",
    "#                         u_mk = evecs[idx, m, :]\n",
    "#                         if n != m: \n",
    "#                             # print((u_nk.conj().T @ v_k[idx, mu] @ u_mk).imag.round(10))\n",
    "#                             # print((u_mk.conj().T @ v_k[idx, nu] @ u_nk) .imag.round(10))\n",
    "\n",
    "#                             QGT[idx, n, mu, nu] += (\n",
    "#                                 (u_nk.conj().T @ v_k[idx, mu] @ u_mk) * (u_mk.conj().T @ v_k[idx, nu] @ u_nk)  \n",
    "#                                 / (evals[idx, n] - evals[idx, m])**2\n",
    "#                             )\n",
    "\n",
    "#     return QGT, v_k\n",
    "\n",
    "\n",
    "def quantum_geom_tens(model, k_vec):\n",
    "    n_orb = model.get_num_orbitals()\n",
    "    dim_k = k_vec.shape[-1]\n",
    "    \n",
    "    evals, evecs = model.solve_all(k_vec, eig_vectors=True)\n",
    "    evecs = np.transpose(evecs, axes=(1, 0, 2))  # [k, n, orb]\n",
    "    evals = np.transpose(evals, axes=(1, 0))  # [k, n]\n",
    "    n_eigs = evecs.shape[1]\n",
    "\n",
    "    QGT = np.zeros((k_vec.shape[0], n_eigs, dim_k, dim_k), dtype=complex)\n",
    "    v_k = np.zeros((k_vec.shape[0], dim_k, n_orb, n_orb), dtype=complex)\n",
    "\n",
    "    for idx, k_pt in enumerate(k_vec):\n",
    "        v_k[idx] = gen_velocity(model, k_pt)\n",
    "        for n in range(n_eigs):\n",
    "            u_nk = evecs[idx, n, :]\n",
    "            E_n = evals[idx, n]\n",
    "            for m in range(n_eigs):\n",
    "                if n != m:\n",
    "                    u_mk = evecs[idx, m, :]\n",
    "                    E_m = evals[idx, m]\n",
    "                    delta_E = E_n - E_m\n",
    "                    for mu in range(dim_k):\n",
    "                        v_nm_mu = u_nk.conj() @ v_k[idx, mu] @ u_mk.T\n",
    "                        for nu in range(dim_k):\n",
    "                            v_mn_nu = u_mk.conj() @ v_k[idx, nu] @ u_nk.T\n",
    "                            QGT[idx, n, mu, nu] += (v_nm_mu * v_mn_nu) / (delta_E ** 2)\n",
    "\n",
    "    return QGT, v_k"
   ]
  },
  {
   "cell_type": "code",
   "execution_count": 76,
   "metadata": {},
   "outputs": [
    {
     "data": {
      "text/plain": [
       "(400, 2)"
      ]
     },
     "execution_count": 76,
     "metadata": {},
     "output_type": "execute_result"
    }
   ],
   "source": [
    "k_mesh = K_mesh(model, 20, 20)\n",
    "full_mesh = k_mesh.gen_k_mesh(endpoint=True)\n",
    "full_mesh.shape"
   ]
  },
  {
   "cell_type": "code",
   "execution_count": 77,
   "metadata": {},
   "outputs": [],
   "source": [
    "for k_pt in full_mesh:\n",
    "    # v_k = velocity_op(model, k_pt)\n",
    "    v_k = gen_velocity(model, k_pt)\n",
    "\n",
    "    # print(v_k)"
   ]
  },
  {
   "cell_type": "code",
   "execution_count": 78,
   "metadata": {},
   "outputs": [
    {
     "data": {
      "text/plain": [
       "(20, 20, 2, 2)"
      ]
     },
     "execution_count": 78,
     "metadata": {},
     "output_type": "execute_result"
    }
   ],
   "source": [
    "wf = wf_array(model, [20, 20])\n",
    "wf.solve_on_grid([0,0])\n",
    "\n",
    "wf._wfs.shape"
   ]
  },
  {
   "cell_type": "code",
   "execution_count": 79,
   "metadata": {},
   "outputs": [],
   "source": [
    "evals, evecs = model.solve_all(full_mesh, eig_vectors=True)\n",
    "evecs = np.transpose(evecs, axes=(1, 0, 2)) # [k, n, orb]\n",
    "evals = np.transpose(evals, axes=(1, 0)) # [k, n]"
   ]
  },
  {
   "cell_type": "code",
   "execution_count": 86,
   "metadata": {},
   "outputs": [],
   "source": [
    "k_mesh = K_mesh(model, 50, 50)\n",
    "full_mesh = k_mesh.gen_k_mesh(endpoint=True)\n",
    "QGT, v_k = quantum_geom_tens(model, full_mesh)"
   ]
  },
  {
   "cell_type": "code",
   "execution_count": 87,
   "metadata": {},
   "outputs": [
    {
     "data": {
      "text/plain": [
       "np.float64(0.9420789135112628)"
      ]
     },
     "execution_count": 87,
     "metadata": {},
     "output_type": "execute_result"
    }
   ],
   "source": [
    "np.amax(QGT.imag)"
   ]
  },
  {
   "cell_type": "code",
   "execution_count": 89,
   "metadata": {},
   "outputs": [],
   "source": [
    "n_orb = model.get_num_orbitals()\n",
    "\n",
    "u_wfs_full = wf_array(model, [20, 20])\n",
    "u_wfs_full.solve_on_grid([0, 0])\n",
    "b_curv = u_wfs_full.berry_flux([0])/(2*np.pi)\n",
    "\n",
    "b_curv2 = np.sum(-2 * QGT.imag, axis=(0, -1, -2))/(2*np.pi)"
   ]
  },
  {
   "cell_type": "code",
   "execution_count": 83,
   "metadata": {},
   "outputs": [
    {
     "data": {
      "text/plain": [
       "np.float64(1.0000000000000002)"
      ]
     },
     "execution_count": 83,
     "metadata": {},
     "output_type": "execute_result"
    }
   ],
   "source": [
    "b_curv"
   ]
  },
  {
   "cell_type": "code",
   "execution_count": 90,
   "metadata": {},
   "outputs": [
    {
     "data": {
      "text/plain": [
       "array([-1.23860891e-15, -1.16097876e-15])"
      ]
     },
     "execution_count": 90,
     "metadata": {},
     "output_type": "execute_result"
    }
   ],
   "source": [
    "b_curv2"
   ]
  },
  {
   "cell_type": "code",
   "execution_count": 91,
   "metadata": {},
   "outputs": [
    {
     "data": {
      "image/png": "[encoded data removed]",
      "text/plain": [
       "<Figure size 640x480 with 1 Axes>"
      ]
     },
     "metadata": {},
     "output_type": "display_data"
    }
   ],
   "source": [
    "import matplotlib.pyplot as plt\n",
    "\n",
    "fig, ax = plt.subplots()\n",
    "\n",
    "k_path = [[0, 0], [2/3, 1/3], [.5, .5], [1/3, 2/3], [0, 0], [.5, .5]]\n",
    "k_label = (r'$\\Gamma $',r'$K$', r'$M$', r'$K^\\prime$', r'$\\Gamma $', r'$M$')\n",
    "(k_vec, k_dist, k_node) = model.k_path(k_path, 101, report=False)\n",
    "\n",
    "QGT, v_k = quantum_geom_tens(model, k_vec)\n",
    "QGT_path = np.sum(-2 * QGT.imag, axis=(-1, -2))\n",
    "\n",
    "ax.set_xlim(0, k_node[-1])\n",
    "ax.set_xticks(k_node)\n",
    "for n in range(len(k_node)):\n",
    "    ax.axvline(x=k_node[n], linewidth=0.5, color='k')\n",
    "if k_label is not None:\n",
    "    ax.set_xticklabels(k_label, size=12)\n",
    "\n",
    "ax.set_ylabel(r\"Energy $E(\\mathbf{{k}})$\", size=12)\n",
    "ax.yaxis.labelpad = 10\n",
    "\n",
    "for n in range(QGT.shape[-1]):\n",
    "    plt.plot(k_dist, QGT_path[:, n] )"
   ]
  },
  {
   "cell_type": "code",
   "execution_count": null,
   "metadata": {},
   "outputs": [],
   "source": []
  }
 ],
 "metadata": {
  "kernelspec": {
   "display_name": "rutgers",
   "language": "python",
   "name": "python3"
  },
  "language_info": {
   "codemirror_mode": {
    "name": "ipython",
    "version": 3
   },
   "file_extension": ".py",
   "mimetype": "text/x-python",
   "name": "python",
   "nbconvert_exporter": "python",
   "pygments_lexer": "ipython3",
   "version": "3.10.14"
  }
 },
 "nbformat": 4,
 "nbformat_minor": 2
}
