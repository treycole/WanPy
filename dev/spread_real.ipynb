{
 "cells": [
  {
   "cell_type": "code",
   "execution_count": null,
   "metadata": {
    "vscode": {
     "languageId": "plaintext"
    }
   },
   "outputs": [],
   "source": [
    "  # TODO: Allow for arbitrary dimensions and optimize\n",
    "    def spread_real(self, decomp=False):\n",
    "        \"\"\"\n",
    "        Spread functional computed in real space with Wannier functions\n",
    "\n",
    "        Args:\n",
    "            decomp (boolean): whether to separate gauge (in)variant parts of spread\n",
    "\n",
    "        Returns:\n",
    "            Omega: the spread functional\n",
    "            Omega_inv: (optional) the gauge invariant part of the spread\n",
    "            Omega_tilde: (optional) the gauge dependent part of the spread\n",
    "            expc_rsq: <r^2>_{n}\n",
    "            expc_r_sq: <\\vec{r}>_{n}^2\n",
    "        \"\"\"\n",
    "        w0 = self.WFs\n",
    "        # assuming 2D for now\n",
    "        nx, ny, n_wfs = w0.shape[0], w0.shape[1], w0.shape[2]\n",
    "\n",
    "        r_n = np.zeros((n_wfs, 2), dtype=complex)  # <\\vec{r}>_n\n",
    "        rsq_n = np.zeros(n_wfs, dtype=complex)  # <r^2>_n\n",
    "        R_nm = np.zeros((2, n_wfs, n_wfs, nx * ny), dtype=complex)\n",
    "\n",
    "        expc_rsq = 0  # <r^2>\n",
    "        expc_r_sq = 0  # <\\vec{r}>^2\n",
    "\n",
    "        for n in range(n_wfs):  # Wannier index\n",
    "            for tx, ty in self.supercell:  # cells in supercell\n",
    "                for i, orb in enumerate(self.model._orb_vecs):  # values of Wannier function on lattice\n",
    "                    pos = (orb[0] + tx) * self.model._lat_vecs[0] + (orb[1] + ty) * self.model._lat_vecs[1]  # position\n",
    "                    r = np.sqrt(pos[0] ** 2 + pos[1] ** 2)\n",
    "\n",
    "                    w0n_r = w0[tx, ty, n, i]  # Wannier function\n",
    "\n",
    "                    # expectation value of position (vector)\n",
    "                    r_n[n, :] += abs(w0n_r) ** 2 * pos\n",
    "                    rsq_n[n] += r**2 * w0n_r * w0n_r.conj()\n",
    "\n",
    "                    if decomp:\n",
    "                        for m in range(n_wfs):\n",
    "                            for j, [dx, dy] in enumerate(self.supercell):\n",
    "                                #TODO: shouldn't this be indexed by j? \n",
    "                                wRm_r = w0[\n",
    "                                    (tx + dx) % nx, (ty + dy) % ny, m, i\n",
    "                                ]  # translated Wannier function\n",
    "                                R_nm[:, n, m, j] += w0n_r * wRm_r.conj() * np.array(pos)\n",
    "\n",
    "            expc_rsq += rsq_n[n]\n",
    "            expc_r_sq += np.vdot(r_n[n, :], r_n[n, :])\n",
    "\n",
    "        spread = expc_rsq - expc_r_sq\n",
    "\n",
    "        if decomp:\n",
    "            sigma_Rnm_sq = np.sum(np.abs(R_nm) ** 2)\n",
    "            Omega_inv = expc_rsq - sigma_Rnm_sq\n",
    "            Omega_tilde = sigma_Rnm_sq - np.sum(\n",
    "                np.abs(\n",
    "                    np.diagonal(R_nm[:, :, :, self.supercell.index((0, 0))], axis1=1, axis2=2)\n",
    "                )** 2\n",
    "            )\n",
    "\n",
    "            assert np.allclose(spread, Omega_inv + Omega_tilde)\n",
    "            return [spread, Omega_inv, Omega_tilde], r_n, rsq_n\n",
    "\n",
    "        else:\n",
    "            return spread, r_n, rsq_n"
   ]
  }
 ],
 "metadata": {
  "language_info": {
   "name": "python"
  }
 },
 "nbformat": 4,
 "nbformat_minor": 2
}
