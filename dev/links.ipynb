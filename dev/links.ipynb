{
 "cells": [
  {
   "cell_type": "code",
   "execution_count": 1,
   "metadata": {},
   "outputs": [
    {
     "name": "stdout",
     "output_type": "stream",
     "text": [
      "/Users/treycole/Repos/WanPy/dev\n"
     ]
    }
   ],
   "source": [
    "import os\n",
    "import sys\n",
    "print(os.getcwd())\n",
    "sys.path.append(\"../wanpy\")\n",
    "\n",
    "import numpy as np\n",
    "from pythtb import *\n",
    "from wpythtb import Bloch, K_mesh, Wannier\n",
    "import models\n",
    "\n",
    "import matplotlib.pyplot as plt\n",
    "from itertools import product"
   ]
  },
  {
   "cell_type": "code",
   "execution_count": 9,
   "metadata": {},
   "outputs": [],
   "source": [
    "# tight-binding parameters\n",
    "delta = 1\n",
    "t = 1\n",
    "t2 = -0.3\n",
    "\n",
    "n_super_cell = 2\n",
    "model = models.Haldane(delta, t, t2).make_supercell([[n_super_cell, 0], [0, n_super_cell]])\n",
    "model.onsite = model.set_onsite(0.5, ind_i = 2, mode='add')\n",
    "\n",
    "#############\n",
    "\n",
    "low_E_sites = np.arange(0, model.get_num_orbitals(), 2)\n",
    "high_E_sites = np.arange(1, model.get_num_orbitals(), 2)\n",
    "lat_vecs = model.get_lat()\n",
    "recip_lat_vecs = model.get_recip_lat_vecs()\n",
    "orb_vecs = model.get_orb()\n",
    "n_orb = model.get_num_orbitals()\n",
    "n_occ = int(n_orb/2)\n",
    "\n",
    "nkx = nky = 10\n",
    "bloch_wfs = Bloch(model, nkx, nky)\n",
    "bloch_wfs.solve_model()\n",
    "\n",
    "k_mesh = bloch_wfs.k_mesh\n",
    "\n",
    "u_wfs = bloch_wfs.get_states()[\"Cell periodic\"]\n",
    "u_wfs_occ = u_wfs[..., :n_occ, :]"
   ]
  },
  {
   "cell_type": "code",
   "execution_count": 3,
   "metadata": {},
   "outputs": [
    {
     "name": "stdout",
     "output_type": "stream",
     "text": [
      "Computing links for direction: mu=0\n",
      "Applying phase\n",
      "Computing links for direction: mu=1\n",
      "Applying phase\n",
      "(2, 10, 10, 4, 4)\n"
     ]
    }
   ],
   "source": [
    "U_links = bloch_wfs.get_links(state_idx=np.arange(n_occ))\n",
    "print(U_links.shape)"
   ]
  },
  {
   "cell_type": "code",
   "execution_count": 77,
   "metadata": {},
   "outputs": [
    {
     "data": {
      "text/plain": [
       "array([[0.998, 0.025, 0.055, 0.004],\n",
       "       [0.023, 0.999, 0.045, 0.002],\n",
       "       [0.056, 0.044, 0.997, 0.029],\n",
       "       [0.003, 0.002, 0.029, 1.   ]])"
      ]
     },
     "execution_count": 77,
     "metadata": {},
     "output_type": "execute_result"
    }
   ],
   "source": [
    "abs(U_links[0, 7, 1]).round(3)"
   ]
  },
  {
   "cell_type": "code",
   "execution_count": 76,
   "metadata": {},
   "outputs": [
    {
     "data": {
      "text/plain": [
       "array([[0.998, 0.025, 0.054, 0.004],\n",
       "       [0.023, 0.997, 0.044, 0.002],\n",
       "       [0.056, 0.044, 0.995, 0.03 ],\n",
       "       [0.003, 0.002, 0.028, 0.98 ]])"
      ]
     },
     "execution_count": 76,
     "metadata": {},
     "output_type": "execute_result"
    }
   ],
   "source": [
    "abs(u_wfs_occ[7, 1].conj() @ u_wfs_occ[8, 1].swapaxes(-1,-2)).round(3)"
   ]
  },
  {
   "cell_type": "code",
   "execution_count": null,
   "metadata": {},
   "outputs": [
    {
     "name": "stdout",
     "output_type": "stream",
     "text": [
      "(1, 8)\n"
     ]
    }
   ],
   "source": [
    "G = np.zeros(k_mesh.dim)\n",
    "G[0] = 1\n",
    "phase = np.exp(-2j * np.pi * G @ orb_vecs.T)\n",
    "print(phase[np.newaxis, :].shape)"
   ]
  },
  {
   "cell_type": "code",
   "execution_count": 72,
   "metadata": {},
   "outputs": [
    {
     "data": {
      "text/plain": [
       "array([[1.   , 0.002, 0.016, 0.001],\n",
       "       [0.006, 0.9  , 0.419, 0.068],\n",
       "       [0.015, 0.42 , 0.872, 0.227],\n",
       "       [0.002, 0.039, 0.23 , 0.957]])"
      ]
     },
     "execution_count": 72,
     "metadata": {},
     "output_type": "execute_result"
    }
   ],
   "source": [
    "abs(u_wfs_occ[-1, 1].conj() @ (u_wfs_occ[0, 1]* phase[np.newaxis, :]).swapaxes(-1,-2)).round(3)"
   ]
  },
  {
   "cell_type": "code",
   "execution_count": 60,
   "metadata": {},
   "outputs": [
    {
     "data": {
      "text/plain": [
       "array([[-0.417+0.j   ,  0.288-0.005j, -0.332-0.j   ,  0.287+0.002j,\n",
       "        -0.435-0.j   ,  0.311-0.j   , -0.426-0.j   ,  0.289+0.003j],\n",
       "       [ 0.666+0.j   , -0.195+0.j   ,  0.237-0.j   , -0.116-0.061j,\n",
       "        -0.32 -0.j   ,  0.046+0.051j, -0.54 +0.j   ,  0.216+0.01j ],\n",
       "       [ 0.075+0.j   , -0.19 +0.061j, -0.367-0.j   ,  0.318-0.041j,\n",
       "         0.692+0.j   , -0.112+0.078j, -0.456-0.j   ,  0.053-0.098j],\n",
       "       [-0.408+0.j   , -0.23 -0.088j,  0.663-0.j   ,  0.086+0.07j ,\n",
       "         0.155+0.j   ,  0.32 +0.028j, -0.333-0.j   , -0.288-0.01j ]])"
      ]
     },
     "execution_count": 60,
     "metadata": {},
     "output_type": "execute_result"
    }
   ],
   "source": [
    "u_wfs_occ[0, 1].round(3)#* phase[np.newaxis, :]"
   ]
  },
  {
   "cell_type": "code",
   "execution_count": 55,
   "metadata": {},
   "outputs": [
    {
     "data": {
      "text/plain": [
       "(4, 8)"
      ]
     },
     "execution_count": 55,
     "metadata": {},
     "output_type": "execute_result"
    }
   ],
   "source": [
    "u_wfs_occ[0, 1].shape"
   ]
  },
  {
   "cell_type": "code",
   "execution_count": 100,
   "metadata": {},
   "outputs": [
    {
     "name": "stdout",
     "output_type": "stream",
     "text": [
      "Computing flux in plane: mu=0, nu=1\n",
      "(10, 10, 4, 4)\n",
      "(10, 10, 4, 4)\n",
      "(10, 10, 4, 4)\n",
      "[-0.       0.03961  0.02896  0.0232 ]\n",
      "[[ 0.999+0.j     0.034-0.j    -0.017-0.003j  0.013-0.001j]\n",
      " [-0.001-0.001j -0.273-0.018j  0.087+0.022j  0.958+0.j   ]\n",
      " [ 0.001-0.001j  0.424-0.048j  0.904+0.j     0.037-0.001j]\n",
      " [-0.04 +0.j     0.861+0.j    -0.416-0.045j  0.285-0.022j]]\n",
      "[[ 0.   +0.j -0.   -0.j  0.   -0.j  0.001-0.j]\n",
      " [-0.   +0.j  0.024+0.j -0.001-0.j -0.004-0.j]\n",
      " [ 0.   +0.j -0.001+0.j  0.031-0.j  0.004-0.j]\n",
      " [ 0.001+0.j -0.004+0.j  0.004+0.j  0.036-0.j]]\n"
     ]
    }
   ],
   "source": [
    "for mu in range(2):\n",
    "    for nu in range(mu+1, 2):\n",
    "        print(f\"Computing flux in plane: mu={mu}, nu={nu}\")\n",
    "        U_mu = U_links[mu]\n",
    "        U_nu = U_links[nu]\n",
    "\n",
    "        print(U_mu.shape)\n",
    "\n",
    "        U_nu_shift_mu = np.roll(U_nu, -1, axis=mu)\n",
    "        U_mu_shift_nu = np.roll(U_mu, -1, axis=nu)\n",
    "\n",
    "        U_wilson = np.matmul(\n",
    "            np.matmul(\n",
    "                np.matmul(U_mu, U_nu_shift_mu), U_mu_shift_nu.conj().swapaxes(-1, -2)\n",
    "                ),\n",
    "                U_nu.conj().swapaxes(-1, -2)\n",
    "                )\n",
    "        \n",
    "        print(U_wilson.shape)\n",
    "    \n",
    "    \n",
    "        # numpy\n",
    "        eigvals, eigvecs = np.linalg.eig(U_wilson)\n",
    "        print(eigvecs.shape)\n",
    "        angles = -np.angle(eigvals)\n",
    "        angles_diag = np.einsum(\"...i, ij -> ...ij\", angles, np.eye(angles.shape[-1]))\n",
    "        eigvecs_inv = np.linalg.inv(eigvecs)\n",
    "        phases_rot = np.matmul(np.matmul(eigvecs, angles_diag), eigvecs_inv)\n",
    "        print(angles[0,0].round(5))\n",
    "        print(eigvecs[0,0].round(3))\n",
    "        print(phases_rot[0,0].round(3))\n",
    "\n"
   ]
  },
  {
   "cell_type": "code",
   "execution_count": 91,
   "metadata": {},
   "outputs": [],
   "source": [
    "x = np.random.randn(4,4)"
   ]
  },
  {
   "cell_type": "code",
   "execution_count": 92,
   "metadata": {},
   "outputs": [
    {
     "data": {
      "text/plain": [
       "array([[-0.52464496,  0.84920905,  0.35173221,  0.04608124],\n",
       "       [-0.5254752 , -1.28098972, -0.60928826, -0.521263  ],\n",
       "       [ 0.26407351, -1.60796594, -0.18893616,  0.95185864],\n",
       "       [ 1.04615091,  0.4221348 ,  0.17033133, -0.55780202]])"
      ]
     },
     "execution_count": 92,
     "metadata": {},
     "output_type": "execute_result"
    }
   ],
   "source": [
    "x"
   ]
  },
  {
   "cell_type": "code",
   "execution_count": 93,
   "metadata": {},
   "outputs": [],
   "source": [
    "d = np.array([2, 3, 4, 5])"
   ]
  },
  {
   "cell_type": "code",
   "execution_count": 94,
   "metadata": {},
   "outputs": [
    {
     "data": {
      "text/plain": [
       "array([[-1.04928993,  1.6984181 ,  0.70346442,  0.09216248],\n",
       "       [-1.57642561, -3.84296916, -1.82786477, -1.56378901],\n",
       "       [ 1.05629405, -6.43186377, -0.75574463,  3.80743457],\n",
       "       [ 5.23075455,  2.11067402,  0.85165666, -2.78901011]])"
      ]
     },
     "execution_count": 94,
     "metadata": {},
     "output_type": "execute_result"
    }
   ],
   "source": [
    "x * d[:, None]"
   ]
  },
  {
   "cell_type": "code",
   "execution_count": 95,
   "metadata": {},
   "outputs": [
    {
     "data": {
      "text/plain": [
       "array([[-1.04928993,  2.54762715,  1.40692884,  0.2304062 ],\n",
       "       [-1.05095041, -3.84296916, -2.43715303, -2.60631502],\n",
       "       [ 0.52814702, -4.82389783, -0.75574463,  4.75929321],\n",
       "       [ 2.09230182,  1.26640441,  0.68132532, -2.78901011]])"
      ]
     },
     "execution_count": 95,
     "metadata": {},
     "output_type": "execute_result"
    }
   ],
   "source": [
    "x @ np.diag(d)"
   ]
  },
  {
   "cell_type": "code",
   "execution_count": 96,
   "metadata": {},
   "outputs": [
    {
     "data": {
      "text/plain": [
       "array([[2, 0, 0, 0],\n",
       "       [0, 3, 0, 0],\n",
       "       [0, 0, 4, 0],\n",
       "       [0, 0, 0, 5]])"
      ]
     },
     "execution_count": 96,
     "metadata": {},
     "output_type": "execute_result"
    }
   ],
   "source": [
    "np.diag(d)"
   ]
  },
  {
   "cell_type": "code",
   "execution_count": 97,
   "metadata": {},
   "outputs": [
    {
     "data": {
      "text/plain": [
       "array([[2., 0., 0., 0.],\n",
       "       [0., 3., 0., 0.],\n",
       "       [0., 0., 4., 0.],\n",
       "       [0., 0., 0., 5.]])"
      ]
     },
     "execution_count": 97,
     "metadata": {},
     "output_type": "execute_result"
    }
   ],
   "source": [
    "np.einsum(\"...i, ij -> ...ij\", d, np.eye(d.shape[-1]))"
   ]
  }
 ],
 "metadata": {
  "kernelspec": {
   "display_name": "axion",
   "language": "python",
   "name": "python3"
  },
  "language_info": {
   "codemirror_mode": {
    "name": "ipython",
    "version": 3
   },
   "file_extension": ".py",
   "mimetype": "text/x-python",
   "name": "python",
   "nbconvert_exporter": "python",
   "pygments_lexer": "ipython3",
   "version": "3.10.16"
  }
 },
 "nbformat": 4,
 "nbformat_minor": 2
}
