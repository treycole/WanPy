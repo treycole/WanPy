{
 "cells": [
  {
   "cell_type": "code",
   "execution_count": 49,
   "metadata": {},
   "outputs": [
    {
     "name": "stdout",
     "output_type": "stream",
     "text": [
      "/Users/treycole/Codes/WanPy\n"
     ]
    }
   ],
   "source": [
    "%cd .."
   ]
  },
  {
   "cell_type": "code",
   "execution_count": 53,
   "metadata": {},
   "outputs": [],
   "source": [
    "from WanPy.WanPy import *\n",
    "import WanPy.models as models\n",
    "import WanPy.plotting as plot\n",
    "\n",
    "from pythtb import *\n",
    "import numpy as np\n",
    "import sympy as sp\n",
    "import matplotlib.pyplot as plt\n",
    "from matplotlib.colors import LogNorm\n",
    "import sympy as sp \n",
    "import scipy"
   ]
  },
  {
   "cell_type": "code",
   "execution_count": 68,
   "metadata": {},
   "outputs": [
    {
     "name": "stdout",
     "output_type": "stream",
     "text": [
      "Chern number: -1.00\n"
     ]
    }
   ],
   "source": [
    "delta = 1\n",
    "t0 = 0.27\n",
    "tprime = 0.5\n",
    "\n",
    "model = models.chessboard(t0, tprime, delta).make_supercell([[2,0], [0,2]])\n",
    "\n",
    "orbs = model.get_orb()\n",
    "n_orb = model.get_num_orbitals()\n",
    "n_occ = int(n_orb/2)\n",
    "lat_vecs = model.get_lat() # lattice vectors\n",
    "\n",
    "low_E_sites = np.arange(0, model.get_num_orbitals(), 2)\n",
    "high_E_sites = np.arange(1, model.get_num_orbitals(), 2)\n",
    "\n",
    "u_wfs_full = wf_array(model, [20, 20])\n",
    "u_wfs_full.solve_on_grid([0, 0])\n",
    "chern = u_wfs_full.berry_flux([i for i in range(n_occ)])/(2*np.pi)\n",
    "\n",
    "print(f\"Chern number: {chern: .2f}\")"
   ]
  },
  {
   "cell_type": "code",
   "execution_count": 76,
   "metadata": {},
   "outputs": [],
   "source": [
    "nkx = 10\n",
    "nky = 10\n",
    "Nk = nkx*nky\n",
    "\n",
    "k_mesh = gen_k_mesh(nkx, nky, flat=False, endpoint=False)\n",
    "k_mesh_flat = gen_k_mesh(nkx, nky, flat=True, endpoint=False)\n",
    "\n",
    "u_wfs_Wan = wf_array(model, [nkx, nky])\n",
    "for i in range(k_mesh.shape[0]):\n",
    "    for j in range(k_mesh.shape[1]):\n",
    "        u_wfs_Wan.solve_on_one_point(k_mesh[i,j], [i,j])\n",
    "psi_wfs_Wan = get_bloch_wfs(orbs, u_wfs_Wan, k_mesh)"
   ]
  },
  {
   "cell_type": "code",
   "execution_count": 82,
   "metadata": {},
   "outputs": [],
   "source": [
    "omit_sites = None\n",
    "tf_list = list(np.setdiff1d(low_E_sites, [omit_sites])) # delta on lower energy sites omitting the last site\n",
    "\n",
    "W0, psi_til_wan = Wannierize(orbs, u_wfs_Wan, tf_list, ret_psi_til=True)\n",
    "u_tilde_wan = get_bloch_wfs(orbs, psi_til_wan, k_mesh, inverse=True)"
   ]
  },
  {
   "cell_type": "code",
   "execution_count": 83,
   "metadata": {},
   "outputs": [],
   "source": [
    "state_idx = list(range(0, n_occ))\n",
    "tfs = set_trial_function(tf_list, n_orb)\n",
    "A = tf_overlap_mat(psi_wfs_Wan, tfs, state_idx)\n",
    "V, S, Wh = SVD(A, full_matrices=False)"
   ]
  },
  {
   "cell_type": "code",
   "execution_count": 84,
   "metadata": {},
   "outputs": [
    {
     "data": {
      "text/latex": [
       "$\\displaystyle \\left[\\begin{matrix}-0.5 & -0.5 & -0.5 & -0.5\\\\0.1849870904 & -0.5835113296 + 0.1401137821 i & 0.5835113296 - 0.1401137821 i & -0.1849870904\\\\-0.6000977784 & -0.1798741254 + 0.0431916961 i & 0.1798741254 - 0.0431916961 i & 0.6000977784\\\\0 & 0 & 0 & 0\\end{matrix}\\right]$"
      ],
      "text/plain": [
       "Matrix([\n",
       "[         -0.5,                           -0.5,                          -0.5,          -0.5],\n",
       "[ 0.1849870904, -0.5835113296 + 0.1401137821*I, 0.5835113296 - 0.1401137821*I, -0.1849870904],\n",
       "[-0.6000977784, -0.1798741254 + 0.0431916961*I, 0.1798741254 - 0.0431916961*I,  0.6000977784],\n",
       "[            0,                              0,                             0,             0]])"
      ]
     },
     "execution_count": 84,
     "metadata": {},
     "output_type": "execute_result"
    }
   ],
   "source": [
    "sp.Matrix(A[0,0].round(10))"
   ]
  },
  {
   "cell_type": "code",
   "execution_count": 86,
   "metadata": {},
   "outputs": [
    {
     "data": {
      "text/latex": [
       "$\\displaystyle \\left[\\begin{matrix}1.0 & 0 & 0 & 0\\\\0 & 0.888073834 & 0 & 0\\\\0 & 0 & 0.888073834 & 0\\\\0 & 0 & 0 & 0\\end{matrix}\\right]$"
      ],
      "text/plain": [
       "Matrix([\n",
       "[1.0,           0,           0, 0],\n",
       "[  0, 0.888073834,           0, 0],\n",
       "[  0,           0, 0.888073834, 0],\n",
       "[  0,           0,           0, 0]])"
      ]
     },
     "execution_count": 86,
     "metadata": {},
     "output_type": "execute_result"
    }
   ],
   "source": [
    "sp.Matrix(np.diag(S[0,0]).round(10))"
   ]
  },
  {
   "cell_type": "code",
   "execution_count": 71,
   "metadata": {},
   "outputs": [],
   "source": [
    "A = np.random.rand(5000, 5000)\n",
    "# sp.Matrix(A)"
   ]
  },
  {
   "cell_type": "code",
   "execution_count": 45,
   "metadata": {},
   "outputs": [],
   "source": [
    "V, S, Wh = np.linalg.svd(A)\n",
    "V, S, Wh = V[:, :-1], S[:-1], Wh[:-1, :]"
   ]
  },
  {
   "cell_type": "code",
   "execution_count": 46,
   "metadata": {},
   "outputs": [],
   "source": [
    "A_prod = V@np.diag(S)@Wh\n",
    "diff = A-A_prod\n",
    "# sp.Matrix((diff).round(10))"
   ]
  },
  {
   "cell_type": "code",
   "execution_count": 47,
   "metadata": {},
   "outputs": [
    {
     "data": {
      "text/plain": [
       "0.000536516934817116"
      ]
     },
     "execution_count": 47,
     "metadata": {},
     "output_type": "execute_result"
    }
   ],
   "source": [
    "np.linalg.norm(diff)"
   ]
  },
  {
   "cell_type": "code",
   "execution_count": null,
   "metadata": {},
   "outputs": [],
   "source": []
  }
 ],
 "metadata": {
  "kernelspec": {
   "display_name": "Python 3",
   "language": "python",
   "name": "python3"
  },
  "language_info": {
   "codemirror_mode": {
    "name": "ipython",
    "version": 3
   },
   "file_extension": ".py",
   "mimetype": "text/x-python",
   "name": "python",
   "nbconvert_exporter": "python",
   "pygments_lexer": "ipython3",
   "version": "3.10.14"
  }
 },
 "nbformat": 4,
 "nbformat_minor": 2
}
