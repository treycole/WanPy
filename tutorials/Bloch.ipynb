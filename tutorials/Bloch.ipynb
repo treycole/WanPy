{
 "cells": [
  {
   "cell_type": "code",
   "execution_count": null,
   "metadata": {},
   "outputs": [],
   "source": [
    "import os\n",
    "import sys\n",
    "print(os.getcwd())\n",
    "sys.path.append(\"../wanpy\")\n",
    "\n",
    "from wanpy import *\n",
    "from pythtb import *\n",
    "from wpythtb import *\n",
    "import models\n",
    "import numpy as np\n",
    "import matplotlib.pyplot as plt"
   ]
  },
  {
   "cell_type": "markdown",
   "metadata": {},
   "source": [
    "Setting up `pythTB` tight-binding model"
   ]
  },
  {
   "cell_type": "code",
   "execution_count": null,
   "metadata": {},
   "outputs": [],
   "source": [
    "delta = 1\n",
    "t0 = 0.3\n",
    "tprime = 0.1\n",
    "n_super_cell = 2\n",
    "\n",
    "model = models.checkerboard(t0, tprime, delta).make_supercell([[n_super_cell, 0], [0, n_super_cell]])\n",
    "\n",
    "lat_vecs = model.get_lat()\n",
    "orb_vecs = model.get_orb()\n",
    "n_orb = model.get_num_orbitals()\n",
    "n_occ = int(n_orb/2)\n",
    "\n",
    "# model.display()"
   ]
  },
  {
   "cell_type": "markdown",
   "metadata": {},
   "source": [
    "## Band Structure\n",
    "\n",
    "We can easily look at the band structure by calling `Model.plot_bands`, giving a list of high-symmetry points in reduced units, and optional plot configurations."
   ]
  },
  {
   "cell_type": "code",
   "execution_count": null,
   "metadata": {},
   "outputs": [],
   "source": [
    "k_path = [[0, 0], [0.5, 0], [.5, .5], [0,0]]\n",
    "k_label = (r'$\\Gamma $',r'$X$', r'$M$', r'$\\Gamma $')\n",
    "fig, ax = model.plot_bands(k_path, k_label=k_label, nk=501)"
   ]
  },
  {
   "cell_type": "markdown",
   "metadata": {},
   "source": [
    "## `Bloch` class\n",
    "\n",
    "To store the eigenstates we will use the `Bloch` class. \n",
    "- This is a variant to the `pythtb.wf_array` class with aditional methods useful for manipulating Bloch states. \n",
    "- A `Bloch` instance takes as its first argument a `pythtb.model`, followed by the number of k-points along each reciprocal lattice basis vector just as with `pythtb.wf_array`"
   ]
  },
  {
   "cell_type": "code",
   "execution_count": null,
   "metadata": {},
   "outputs": [],
   "source": [
    "nks = 20, 20\n",
    "bloch = Bloch(model, nks[0], nks[1])"
   ]
  },
  {
   "cell_type": "markdown",
   "metadata": {},
   "source": [
    "A `Bloch` instance has a `K_mesh` class instance as an attribute. The `K_mesh` class stores a regular array of k-points in reduced units, along which the Bloch states are defined. To see the k-mesh points in reduced units, we can call `K_mesh.square_mesh` or `K_mesh.flat_mesh`. \n",
    "- The number of axes in the square mesh depends on the dimension of k-space. It has a shape `(nk1, ..., nkd, dim_k)`\n",
    "- The flat mesh has two axes with shape `(nk1*nk2*...*nkd, dim_k)`"
   ]
  },
  {
   "cell_type": "code",
   "execution_count": null,
   "metadata": {},
   "outputs": [],
   "source": [
    "k_mesh = bloch.k_mesh\n",
    "square_mesh = k_mesh.square_mesh\n",
    "flat_mesh = k_mesh.flat_mesh\n",
    "\n",
    "print(f\"Dimension of k-mesh: {k_mesh.dim}\")\n",
    "print(f\"Number of k-points along each k-space direction: {k_mesh.nks}\")\n",
    "print(f\"Total number of k-points: {k_mesh.Nk}\")\n",
    "print()\n",
    "print(\"Square k-mesh shape: \", square_mesh.shape)\n",
    "print(\"Square k-mesh value at (3, 5): \", square_mesh[3, 5])\n",
    "print(\"Square k-mesh value at the last point: \", square_mesh[-1, -1])\n",
    "print()\n",
    "print(\"Flat k-mesh shape: \", flat_mesh.shape)\n",
    "print(\"Flat k-mesh value at 3*20 + 5 = (65): \", flat_mesh[65])\n",
    "print(\"Flat k-mesh value at the last point: \", flat_mesh[-1])"
   ]
  },
  {
   "cell_type": "markdown",
   "metadata": {},
   "source": [
    "The `K_mesh` also keeps track of the reciprocal lattice vectors, which can be directly accessed as a class attribute"
   ]
  },
  {
   "cell_type": "code",
   "execution_count": null,
   "metadata": {},
   "outputs": [],
   "source": [
    "k_mesh.recip_lat_vecs"
   ]
  },
  {
   "cell_type": "markdown",
   "metadata": {},
   "source": [
    "One of the useful features of `K_mesh` is its class function for finding a shell of nearest neighbor k-points. `get_k_shell` will nearest neighbors of a given depth for a given reciprocal lattice. It returns the reciprocal space vectors connecting neighboring k-points, and an array of integer-valued vectors that index neighboring points in the k-mesh."
   ]
  },
  {
   "cell_type": "code",
   "execution_count": null,
   "metadata": {},
   "outputs": [],
   "source": [
    "dks, didxs = k_mesh.get_k_shell(N_sh=1)\n",
    "print(f\"delta_k vectors: \\n {dks[0]}\")\n",
    "print(f\"delta_idx vectors: \\n {didxs[0]}\")"
   ]
  },
  {
   "cell_type": "markdown",
   "metadata": {},
   "source": [
    "To initialize the Bloch energy eigenstates of the model as class attributes, we will call the `solve_model` method. This stores the eigenstates on a regular k-mesh excluding the endpoints. The periodic boundary conditions are handled internally."
   ]
  },
  {
   "cell_type": "code",
   "execution_count": null,
   "metadata": {},
   "outputs": [],
   "source": [
    "bloch.solve_model()"
   ]
  },
  {
   "cell_type": "markdown",
   "metadata": {},
   "source": [
    "We can retrieve the eigenstates in either their cell-periodic ($u_{n, \\mathbf{k}}$) or full Bloch ($\\psi_{n, \\mathbf{k}} = e^{i \\mathbf{k} \\cdot \\mathbf{r}} u_{n, \\mathbf{k}}$) form using the `get_states` method. This returns a dictionary, with keys \"Cell periodic\" and \"Bloch\" whose values are the associated eigenstates."
   ]
  },
  {
   "cell_type": "code",
   "execution_count": null,
   "metadata": {},
   "outputs": [],
   "source": [
    "eigstates = bloch.get_states()\n",
    "u_nk = eigstates[\"Cell periodic\"]\n",
    "psi_nk = eigstates[\"Bloch\"]\n",
    "\n",
    "print(\"Shape of u_nk: \", u_nk.shape)\n",
    "print(\"Shape of psi_nk: \", psi_nk.shape)\n",
    "print(\"Value of u_nk with n = 0 and k = (0,0): \", \"\\n\", u_nk[0,0,0,:].round(5))\n",
    "print(\"Value of psi_nk with n = 0 and k = (0,0): \", \"\\n\", psi_nk[0,0,0,:].round(5))\n",
    "print(\"Value of u_nk with n = 1 and k = (0.15, 0.25): \", \"\\n\", u_nk[3,5,1,:].round(5))\n",
    "print(\"Value of psi_nk with n = 1 and k = (0.15, 0.25): \", \"\\n\", psi_nk[3,5,1,:].round(5))"
   ]
  },
  {
   "cell_type": "markdown",
   "metadata": {},
   "source": [
    "We are able to compute Berry phases and Berry curvatures conveniently. To obtain the full Berry curvature tensor for all planes, we call `berry_curv`. To restrict to a given plane, we can pass a 2-tuple to `dirs` specifying the plane. We additionally provide the band indices that are traced over through `state_idx`"
   ]
  },
  {
   "cell_type": "code",
   "execution_count": null,
   "metadata": {},
   "outputs": [],
   "source": [
    "Berry_curvature = bloch.berry_curv(dirs=(0,1), state_idx=np.arange(n_occ))"
   ]
  },
  {
   "cell_type": "markdown",
   "metadata": {},
   "source": [
    "Let's look at the Berry curvature distribution. To do so, we translate the indices to reciprocal space coordinates by first retrieving the reciprocal space vectors using `model.get_recip_lat_vecs`, then forming a grid from the k-mesh."
   ]
  },
  {
   "cell_type": "code",
   "execution_count": null,
   "metadata": {},
   "outputs": [],
   "source": [
    "recip_lat_vecs = model.get_recip_lat_vecs()\n",
    "mesh_Cartesian = square_mesh @ recip_lat_vecs\n",
    "\n",
    "kxs, kys = mesh_Cartesian[:, :, 0], mesh_Cartesian[:, :, 1]\n",
    "im = plt.pcolormesh(kxs, kys, Berry_curvature.real, cmap='plasma', shading='gouraud')\n",
    "plt.colorbar(label=r'$\\Omega(\\mathbf{k})$')"
   ]
  },
  {
   "cell_type": "markdown",
   "metadata": {},
   "source": [
    "The Chern number is easily found for a given set of bands. It is again assumed that the band indices are for the lower half of states (occupied)."
   ]
  },
  {
   "cell_type": "code",
   "execution_count": null,
   "metadata": {},
   "outputs": [],
   "source": [
    "chern = bloch.chern_num()\n",
    "print(f\"Chern number: {chern:0.1f}\")"
   ]
  }
 ],
 "metadata": {
  "kernelspec": {
   "display_name": "wanpy",
   "language": "python",
   "name": "python3"
  },
  "language_info": {
   "codemirror_mode": {
    "name": "ipython",
    "version": 3
   },
   "file_extension": ".py",
   "mimetype": "text/x-python",
   "name": "python",
   "nbconvert_exporter": "python",
   "pygments_lexer": "ipython3",
   "version": "3.10.16"
  }
 },
 "nbformat": 4,
 "nbformat_minor": 2
}
