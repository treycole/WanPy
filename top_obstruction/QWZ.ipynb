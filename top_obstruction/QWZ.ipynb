{
 "cells": [
  {
   "cell_type": "code",
   "execution_count": 7,
   "metadata": {},
   "outputs": [
    {
     "name": "stdout",
     "output_type": "stream",
     "text": [
      "/Users/treycole/Codes/WanPy/top_obstruction\n"
     ]
    }
   ],
   "source": [
    "import os\n",
    "import sys\n",
    "print(os.getcwd())\n",
    "sys.path.append(\"../WanPy\")\n",
    "\n",
    "from WanPy import *\n",
    "from pythtb import *\n",
    "from pythTB_wan import Bloch, K_mesh, Wannier, Lattice\n",
    "import models\n",
    "import plotting as plot\n",
    "\n",
    "import numpy as np\n",
    "import matplotlib.pyplot as plt\n",
    "from matplotlib.colors import LogNorm\n",
    "from itertools import product"
   ]
  },
  {
   "cell_type": "code",
   "execution_count": 13,
   "metadata": {},
   "outputs": [],
   "source": [
    "end_pts = [0, 1]\n",
    "nks = 20, 20\n",
    "\n",
    "k_vals = [np.linspace(end_pts[0], end_pts[1], nk, endpoint=False) for nk in nks]\n",
    "k_mesh = np.array(list(product(*k_vals)))\n",
    "k_mesh = k_mesh.reshape(*[nk for nk in nks], len(nks))"
   ]
  },
  {
   "cell_type": "code",
   "execution_count": 2,
   "metadata": {},
   "outputs": [],
   "source": [
    "def H_QWZ(kx, ky, lamb, a=1):\n",
    "    sigma_z = np.array(\n",
    "        [[1, 0], \n",
    "         [0, -1]], dtype=complex)\n",
    "    sigma_x = np.array(\n",
    "        [[0, 1], \n",
    "         [1, 0]], dtype=complex)\n",
    "    sigma_y = np.array(\n",
    "        [[0, -1j], \n",
    "         [1j, 0]], dtype=complex)\n",
    "    \n",
    "    H_QWZ = (lamb * np.sin(kx*a) * sigma_x + lamb * np.sin(ky*a) * sigma_y \n",
    "             + (1 + lamb * np.cos(kx*a) + lamb * np.cos(ky*a)) * sigma_z )\n",
    "\n",
    "    return H_QWZ\n"
   ]
  },
  {
   "cell_type": "code",
   "execution_count": 16,
   "metadata": {},
   "outputs": [],
   "source": [
    "lamb = 1\n",
    "eigvals = np.zeros((nks[0], nks[1], 2), dtype=complex)\n",
    "eigvecs = np.zeros((nks[0], nks[1], 2, 2), dtype=complex)\n",
    "for i in range(k_mesh.shape[0]):\n",
    "    for j in range(k_mesh.shape[1]):\n",
    "        kx, ky = k_mesh[i,j]\n",
    "        H_k = H_QWZ(kx, ky, lamb)\n",
    "        eigvals[i, j], eigvecs[i, j] = np.linalg.eigh(H_k)"
   ]
  },
  {
   "cell_type": "code",
   "execution_count": 17,
   "metadata": {},
   "outputs": [
    {
     "ename": "TypeError",
     "evalue": "wf_array.__init__() missing 2 required positional arguments: 'model' and 'mesh_arr'",
     "output_type": "error",
     "traceback": [
      "\u001b[0;31m---------------------------------------------------------------------------\u001b[0m",
      "\u001b[0;31mTypeError\u001b[0m                                 Traceback (most recent call last)",
      "Cell \u001b[0;32mIn[17], line 1\u001b[0m\n\u001b[0;32m----> 1\u001b[0m WFs \u001b[38;5;241m=\u001b[39m \u001b[43mwf_array\u001b[49m\u001b[43m(\u001b[49m\u001b[43m)\u001b[49m\n",
      "\u001b[0;31mTypeError\u001b[0m: wf_array.__init__() missing 2 required positional arguments: 'model' and 'mesh_arr'"
     ]
    }
   ],
   "source": [
    "WFs = wf_array()"
   ]
  },
  {
   "cell_type": "code",
   "execution_count": 14,
   "metadata": {},
   "outputs": [
    {
     "data": {
      "text/plain": [
       "(20, 20, 2)"
      ]
     },
     "execution_count": 14,
     "metadata": {},
     "output_type": "execute_result"
    }
   ],
   "source": [
    "k_mesh.shape"
   ]
  }
 ],
 "metadata": {
  "kernelspec": {
   "display_name": "rutgers",
   "language": "python",
   "name": "python3"
  },
  "language_info": {
   "codemirror_mode": {
    "name": "ipython",
    "version": 3
   },
   "file_extension": ".py",
   "mimetype": "text/x-python",
   "name": "python",
   "nbconvert_exporter": "python",
   "pygments_lexer": "ipython3",
   "version": "3.10.14"
  }
 },
 "nbformat": 4,
 "nbformat_minor": 2
}
